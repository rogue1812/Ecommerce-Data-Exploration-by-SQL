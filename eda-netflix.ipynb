{
 "cells": [
  {
   "cell_type": "code",
   "execution_count": 1,
   "id": "166fb587",
   "metadata": {
    "_cell_guid": "b1076dfc-b9ad-4769-8c92-a6c4dae69d19",
    "_uuid": "8f2839f25d086af736a60e9eeb907d3b93b6e0e5",
    "execution": {
     "iopub.execute_input": "2022-05-30T20:10:51.583248Z",
     "iopub.status.busy": "2022-05-30T20:10:51.582502Z",
     "iopub.status.idle": "2022-05-30T20:10:52.816949Z",
     "shell.execute_reply": "2022-05-30T20:10:52.816011Z",
     "shell.execute_reply.started": "2022-05-30T20:10:20.661853Z"
    },
    "papermill": {
     "duration": 1.300847,
     "end_time": "2022-05-30T20:10:52.817119",
     "exception": false,
     "start_time": "2022-05-30T20:10:51.516272",
     "status": "completed"
    },
    "tags": []
   },
   "outputs": [
    {
     "name": "stdout",
     "output_type": "stream",
     "text": [
      "/kaggle/input/netflix-shows/netflix_titles.csv\n"
     ]
    }
   ],
   "source": [
    "import numpy as np # linear algebra\n",
    "import pandas as pd # data processing, CSV file I/O (e.g. pd.read_csv)\n",
    "import matplotlib.pyplot as plt\n",
    "import seaborn as sns\n",
    "import os\n",
    "for dirname, _, filenames in os.walk('/kaggle/input'):\n",
    "    for filename in filenames:\n",
    "        print(os.path.join(dirname, filename))\n"
   ]
  },
  {
   "cell_type": "code",
   "execution_count": 2,
   "id": "441f7d5e",
   "metadata": {
    "execution": {
     "iopub.execute_input": "2022-05-30T20:10:52.930099Z",
     "iopub.status.busy": "2022-05-30T20:10:52.929323Z",
     "iopub.status.idle": "2022-05-30T20:10:53.114923Z",
     "shell.execute_reply": "2022-05-30T20:10:53.115517Z",
     "shell.execute_reply.started": "2022-05-30T20:10:20.836673Z"
    },
    "papermill": {
     "duration": 0.244783,
     "end_time": "2022-05-30T20:10:53.115737",
     "exception": false,
     "start_time": "2022-05-30T20:10:52.870954",
     "status": "completed"
    },
    "tags": []
   },
   "outputs": [
    {
     "data": {
      "text/html": [
       "<div>\n",
       "<style scoped>\n",
       "    .dataframe tbody tr th:only-of-type {\n",
       "        vertical-align: middle;\n",
       "    }\n",
       "\n",
       "    .dataframe tbody tr th {\n",
       "        vertical-align: top;\n",
       "    }\n",
       "\n",
       "    .dataframe thead th {\n",
       "        text-align: right;\n",
       "    }\n",
       "</style>\n",
       "<table border=\"1\" class=\"dataframe\">\n",
       "  <thead>\n",
       "    <tr style=\"text-align: right;\">\n",
       "      <th></th>\n",
       "      <th>show_id</th>\n",
       "      <th>type</th>\n",
       "      <th>title</th>\n",
       "      <th>director</th>\n",
       "      <th>cast</th>\n",
       "      <th>country</th>\n",
       "      <th>date_added</th>\n",
       "      <th>release_year</th>\n",
       "      <th>rating</th>\n",
       "      <th>duration</th>\n",
       "      <th>listed_in</th>\n",
       "      <th>description</th>\n",
       "    </tr>\n",
       "  </thead>\n",
       "  <tbody>\n",
       "    <tr>\n",
       "      <th>0</th>\n",
       "      <td>s1</td>\n",
       "      <td>Movie</td>\n",
       "      <td>Dick Johnson Is Dead</td>\n",
       "      <td>Kirsten Johnson</td>\n",
       "      <td>NaN</td>\n",
       "      <td>United States</td>\n",
       "      <td>September 25, 2021</td>\n",
       "      <td>2020</td>\n",
       "      <td>PG-13</td>\n",
       "      <td>90 min</td>\n",
       "      <td>Documentaries</td>\n",
       "      <td>As her father nears the end of his life, filmm...</td>\n",
       "    </tr>\n",
       "    <tr>\n",
       "      <th>1</th>\n",
       "      <td>s2</td>\n",
       "      <td>TV Show</td>\n",
       "      <td>Blood &amp; Water</td>\n",
       "      <td>NaN</td>\n",
       "      <td>Ama Qamata, Khosi Ngema, Gail Mabalane, Thaban...</td>\n",
       "      <td>South Africa</td>\n",
       "      <td>September 24, 2021</td>\n",
       "      <td>2021</td>\n",
       "      <td>TV-MA</td>\n",
       "      <td>2 Seasons</td>\n",
       "      <td>International TV Shows, TV Dramas, TV Mysteries</td>\n",
       "      <td>After crossing paths at a party, a Cape Town t...</td>\n",
       "    </tr>\n",
       "    <tr>\n",
       "      <th>2</th>\n",
       "      <td>s3</td>\n",
       "      <td>TV Show</td>\n",
       "      <td>Ganglands</td>\n",
       "      <td>Julien Leclercq</td>\n",
       "      <td>Sami Bouajila, Tracy Gotoas, Samuel Jouy, Nabi...</td>\n",
       "      <td>NaN</td>\n",
       "      <td>September 24, 2021</td>\n",
       "      <td>2021</td>\n",
       "      <td>TV-MA</td>\n",
       "      <td>1 Season</td>\n",
       "      <td>Crime TV Shows, International TV Shows, TV Act...</td>\n",
       "      <td>To protect his family from a powerful drug lor...</td>\n",
       "    </tr>\n",
       "    <tr>\n",
       "      <th>3</th>\n",
       "      <td>s4</td>\n",
       "      <td>TV Show</td>\n",
       "      <td>Jailbirds New Orleans</td>\n",
       "      <td>NaN</td>\n",
       "      <td>NaN</td>\n",
       "      <td>NaN</td>\n",
       "      <td>September 24, 2021</td>\n",
       "      <td>2021</td>\n",
       "      <td>TV-MA</td>\n",
       "      <td>1 Season</td>\n",
       "      <td>Docuseries, Reality TV</td>\n",
       "      <td>Feuds, flirtations and toilet talk go down amo...</td>\n",
       "    </tr>\n",
       "    <tr>\n",
       "      <th>4</th>\n",
       "      <td>s5</td>\n",
       "      <td>TV Show</td>\n",
       "      <td>Kota Factory</td>\n",
       "      <td>NaN</td>\n",
       "      <td>Mayur More, Jitendra Kumar, Ranjan Raj, Alam K...</td>\n",
       "      <td>India</td>\n",
       "      <td>September 24, 2021</td>\n",
       "      <td>2021</td>\n",
       "      <td>TV-MA</td>\n",
       "      <td>2 Seasons</td>\n",
       "      <td>International TV Shows, Romantic TV Shows, TV ...</td>\n",
       "      <td>In a city of coaching centers known to train I...</td>\n",
       "    </tr>\n",
       "    <tr>\n",
       "      <th>...</th>\n",
       "      <td>...</td>\n",
       "      <td>...</td>\n",
       "      <td>...</td>\n",
       "      <td>...</td>\n",
       "      <td>...</td>\n",
       "      <td>...</td>\n",
       "      <td>...</td>\n",
       "      <td>...</td>\n",
       "      <td>...</td>\n",
       "      <td>...</td>\n",
       "      <td>...</td>\n",
       "      <td>...</td>\n",
       "    </tr>\n",
       "    <tr>\n",
       "      <th>8802</th>\n",
       "      <td>s8803</td>\n",
       "      <td>Movie</td>\n",
       "      <td>Zodiac</td>\n",
       "      <td>David Fincher</td>\n",
       "      <td>Mark Ruffalo, Jake Gyllenhaal, Robert Downey J...</td>\n",
       "      <td>United States</td>\n",
       "      <td>November 20, 2019</td>\n",
       "      <td>2007</td>\n",
       "      <td>R</td>\n",
       "      <td>158 min</td>\n",
       "      <td>Cult Movies, Dramas, Thrillers</td>\n",
       "      <td>A political cartoonist, a crime reporter and a...</td>\n",
       "    </tr>\n",
       "    <tr>\n",
       "      <th>8803</th>\n",
       "      <td>s8804</td>\n",
       "      <td>TV Show</td>\n",
       "      <td>Zombie Dumb</td>\n",
       "      <td>NaN</td>\n",
       "      <td>NaN</td>\n",
       "      <td>NaN</td>\n",
       "      <td>July 1, 2019</td>\n",
       "      <td>2018</td>\n",
       "      <td>TV-Y7</td>\n",
       "      <td>2 Seasons</td>\n",
       "      <td>Kids' TV, Korean TV Shows, TV Comedies</td>\n",
       "      <td>While living alone in a spooky town, a young g...</td>\n",
       "    </tr>\n",
       "    <tr>\n",
       "      <th>8804</th>\n",
       "      <td>s8805</td>\n",
       "      <td>Movie</td>\n",
       "      <td>Zombieland</td>\n",
       "      <td>Ruben Fleischer</td>\n",
       "      <td>Jesse Eisenberg, Woody Harrelson, Emma Stone, ...</td>\n",
       "      <td>United States</td>\n",
       "      <td>November 1, 2019</td>\n",
       "      <td>2009</td>\n",
       "      <td>R</td>\n",
       "      <td>88 min</td>\n",
       "      <td>Comedies, Horror Movies</td>\n",
       "      <td>Looking to survive in a world taken over by zo...</td>\n",
       "    </tr>\n",
       "    <tr>\n",
       "      <th>8805</th>\n",
       "      <td>s8806</td>\n",
       "      <td>Movie</td>\n",
       "      <td>Zoom</td>\n",
       "      <td>Peter Hewitt</td>\n",
       "      <td>Tim Allen, Courteney Cox, Chevy Chase, Kate Ma...</td>\n",
       "      <td>United States</td>\n",
       "      <td>January 11, 2020</td>\n",
       "      <td>2006</td>\n",
       "      <td>PG</td>\n",
       "      <td>88 min</td>\n",
       "      <td>Children &amp; Family Movies, Comedies</td>\n",
       "      <td>Dragged from civilian life, a former superhero...</td>\n",
       "    </tr>\n",
       "    <tr>\n",
       "      <th>8806</th>\n",
       "      <td>s8807</td>\n",
       "      <td>Movie</td>\n",
       "      <td>Zubaan</td>\n",
       "      <td>Mozez Singh</td>\n",
       "      <td>Vicky Kaushal, Sarah-Jane Dias, Raaghav Chanan...</td>\n",
       "      <td>India</td>\n",
       "      <td>March 2, 2019</td>\n",
       "      <td>2015</td>\n",
       "      <td>TV-14</td>\n",
       "      <td>111 min</td>\n",
       "      <td>Dramas, International Movies, Music &amp; Musicals</td>\n",
       "      <td>A scrappy but poor boy worms his way into a ty...</td>\n",
       "    </tr>\n",
       "  </tbody>\n",
       "</table>\n",
       "<p>8807 rows × 12 columns</p>\n",
       "</div>"
      ],
      "text/plain": [
       "     show_id     type                  title         director  \\\n",
       "0         s1    Movie   Dick Johnson Is Dead  Kirsten Johnson   \n",
       "1         s2  TV Show          Blood & Water              NaN   \n",
       "2         s3  TV Show              Ganglands  Julien Leclercq   \n",
       "3         s4  TV Show  Jailbirds New Orleans              NaN   \n",
       "4         s5  TV Show           Kota Factory              NaN   \n",
       "...      ...      ...                    ...              ...   \n",
       "8802   s8803    Movie                 Zodiac    David Fincher   \n",
       "8803   s8804  TV Show            Zombie Dumb              NaN   \n",
       "8804   s8805    Movie             Zombieland  Ruben Fleischer   \n",
       "8805   s8806    Movie                   Zoom     Peter Hewitt   \n",
       "8806   s8807    Movie                 Zubaan      Mozez Singh   \n",
       "\n",
       "                                                   cast        country  \\\n",
       "0                                                   NaN  United States   \n",
       "1     Ama Qamata, Khosi Ngema, Gail Mabalane, Thaban...   South Africa   \n",
       "2     Sami Bouajila, Tracy Gotoas, Samuel Jouy, Nabi...            NaN   \n",
       "3                                                   NaN            NaN   \n",
       "4     Mayur More, Jitendra Kumar, Ranjan Raj, Alam K...          India   \n",
       "...                                                 ...            ...   \n",
       "8802  Mark Ruffalo, Jake Gyllenhaal, Robert Downey J...  United States   \n",
       "8803                                                NaN            NaN   \n",
       "8804  Jesse Eisenberg, Woody Harrelson, Emma Stone, ...  United States   \n",
       "8805  Tim Allen, Courteney Cox, Chevy Chase, Kate Ma...  United States   \n",
       "8806  Vicky Kaushal, Sarah-Jane Dias, Raaghav Chanan...          India   \n",
       "\n",
       "              date_added  release_year rating   duration  \\\n",
       "0     September 25, 2021          2020  PG-13     90 min   \n",
       "1     September 24, 2021          2021  TV-MA  2 Seasons   \n",
       "2     September 24, 2021          2021  TV-MA   1 Season   \n",
       "3     September 24, 2021          2021  TV-MA   1 Season   \n",
       "4     September 24, 2021          2021  TV-MA  2 Seasons   \n",
       "...                  ...           ...    ...        ...   \n",
       "8802   November 20, 2019          2007      R    158 min   \n",
       "8803        July 1, 2019          2018  TV-Y7  2 Seasons   \n",
       "8804    November 1, 2019          2009      R     88 min   \n",
       "8805    January 11, 2020          2006     PG     88 min   \n",
       "8806       March 2, 2019          2015  TV-14    111 min   \n",
       "\n",
       "                                              listed_in  \\\n",
       "0                                         Documentaries   \n",
       "1       International TV Shows, TV Dramas, TV Mysteries   \n",
       "2     Crime TV Shows, International TV Shows, TV Act...   \n",
       "3                                Docuseries, Reality TV   \n",
       "4     International TV Shows, Romantic TV Shows, TV ...   \n",
       "...                                                 ...   \n",
       "8802                     Cult Movies, Dramas, Thrillers   \n",
       "8803             Kids' TV, Korean TV Shows, TV Comedies   \n",
       "8804                            Comedies, Horror Movies   \n",
       "8805                 Children & Family Movies, Comedies   \n",
       "8806     Dramas, International Movies, Music & Musicals   \n",
       "\n",
       "                                            description  \n",
       "0     As her father nears the end of his life, filmm...  \n",
       "1     After crossing paths at a party, a Cape Town t...  \n",
       "2     To protect his family from a powerful drug lor...  \n",
       "3     Feuds, flirtations and toilet talk go down amo...  \n",
       "4     In a city of coaching centers known to train I...  \n",
       "...                                                 ...  \n",
       "8802  A political cartoonist, a crime reporter and a...  \n",
       "8803  While living alone in a spooky town, a young g...  \n",
       "8804  Looking to survive in a world taken over by zo...  \n",
       "8805  Dragged from civilian life, a former superhero...  \n",
       "8806  A scrappy but poor boy worms his way into a ty...  \n",
       "\n",
       "[8807 rows x 12 columns]"
      ]
     },
     "execution_count": 2,
     "metadata": {},
     "output_type": "execute_result"
    }
   ],
   "source": [
    "df = pd.read_csv('/kaggle/input/netflix-shows/netflix_titles.csv')\n",
    "df"
   ]
  },
  {
   "cell_type": "code",
   "execution_count": 3,
   "id": "d4d1f77e",
   "metadata": {
    "execution": {
     "iopub.execute_input": "2022-05-30T20:10:53.245298Z",
     "iopub.status.busy": "2022-05-30T20:10:53.244168Z",
     "iopub.status.idle": "2022-05-30T20:10:53.267761Z",
     "shell.execute_reply": "2022-05-30T20:10:53.268361Z",
     "shell.execute_reply.started": "2022-05-30T20:10:20.944451Z"
    },
    "papermill": {
     "duration": 0.097852,
     "end_time": "2022-05-30T20:10:53.268614",
     "exception": false,
     "start_time": "2022-05-30T20:10:53.170762",
     "status": "completed"
    },
    "tags": []
   },
   "outputs": [
    {
     "name": "stdout",
     "output_type": "stream",
     "text": [
      "<class 'pandas.core.frame.DataFrame'>\n",
      "RangeIndex: 8807 entries, 0 to 8806\n",
      "Data columns (total 12 columns):\n",
      " #   Column        Non-Null Count  Dtype \n",
      "---  ------        --------------  ----- \n",
      " 0   show_id       8807 non-null   object\n",
      " 1   type          8807 non-null   object\n",
      " 2   title         8807 non-null   object\n",
      " 3   director      6173 non-null   object\n",
      " 4   cast          7982 non-null   object\n",
      " 5   country       7976 non-null   object\n",
      " 6   date_added    8797 non-null   object\n",
      " 7   release_year  8807 non-null   int64 \n",
      " 8   rating        8803 non-null   object\n",
      " 9   duration      8804 non-null   object\n",
      " 10  listed_in     8807 non-null   object\n",
      " 11  description   8807 non-null   object\n",
      "dtypes: int64(1), object(11)\n",
      "memory usage: 825.8+ KB\n"
     ]
    }
   ],
   "source": [
    "df.info()"
   ]
  },
  {
   "cell_type": "code",
   "execution_count": 4,
   "id": "60a36d1e",
   "metadata": {
    "execution": {
     "iopub.execute_input": "2022-05-30T20:10:53.386559Z",
     "iopub.status.busy": "2022-05-30T20:10:53.385787Z",
     "iopub.status.idle": "2022-05-30T20:10:53.459449Z",
     "shell.execute_reply": "2022-05-30T20:10:53.458756Z",
     "shell.execute_reply.started": "2022-05-30T20:10:21.144713Z"
    },
    "papermill": {
     "duration": 0.135595,
     "end_time": "2022-05-30T20:10:53.459617",
     "exception": false,
     "start_time": "2022-05-30T20:10:53.324022",
     "status": "completed"
    },
    "tags": []
   },
   "outputs": [
    {
     "data": {
      "text/html": [
       "<div>\n",
       "<style scoped>\n",
       "    .dataframe tbody tr th:only-of-type {\n",
       "        vertical-align: middle;\n",
       "    }\n",
       "\n",
       "    .dataframe tbody tr th {\n",
       "        vertical-align: top;\n",
       "    }\n",
       "\n",
       "    .dataframe thead th {\n",
       "        text-align: right;\n",
       "    }\n",
       "</style>\n",
       "<table border=\"1\" class=\"dataframe\">\n",
       "  <thead>\n",
       "    <tr style=\"text-align: right;\">\n",
       "      <th></th>\n",
       "      <th>show_id</th>\n",
       "      <th>type</th>\n",
       "      <th>title</th>\n",
       "      <th>director</th>\n",
       "      <th>cast</th>\n",
       "      <th>country</th>\n",
       "      <th>date_added</th>\n",
       "      <th>rating</th>\n",
       "      <th>duration</th>\n",
       "      <th>listed_in</th>\n",
       "      <th>description</th>\n",
       "    </tr>\n",
       "  </thead>\n",
       "  <tbody>\n",
       "    <tr>\n",
       "      <th>count</th>\n",
       "      <td>8807</td>\n",
       "      <td>8807</td>\n",
       "      <td>8807</td>\n",
       "      <td>6173</td>\n",
       "      <td>7982</td>\n",
       "      <td>7976</td>\n",
       "      <td>8797</td>\n",
       "      <td>8803</td>\n",
       "      <td>8804</td>\n",
       "      <td>8807</td>\n",
       "      <td>8807</td>\n",
       "    </tr>\n",
       "    <tr>\n",
       "      <th>unique</th>\n",
       "      <td>8807</td>\n",
       "      <td>2</td>\n",
       "      <td>8807</td>\n",
       "      <td>4528</td>\n",
       "      <td>7692</td>\n",
       "      <td>748</td>\n",
       "      <td>1767</td>\n",
       "      <td>17</td>\n",
       "      <td>220</td>\n",
       "      <td>514</td>\n",
       "      <td>8775</td>\n",
       "    </tr>\n",
       "    <tr>\n",
       "      <th>top</th>\n",
       "      <td>s1</td>\n",
       "      <td>Movie</td>\n",
       "      <td>Dick Johnson Is Dead</td>\n",
       "      <td>Rajiv Chilaka</td>\n",
       "      <td>David Attenborough</td>\n",
       "      <td>United States</td>\n",
       "      <td>January 1, 2020</td>\n",
       "      <td>TV-MA</td>\n",
       "      <td>1 Season</td>\n",
       "      <td>Dramas, International Movies</td>\n",
       "      <td>Paranormal activity at a lush, abandoned prope...</td>\n",
       "    </tr>\n",
       "    <tr>\n",
       "      <th>freq</th>\n",
       "      <td>1</td>\n",
       "      <td>6131</td>\n",
       "      <td>1</td>\n",
       "      <td>19</td>\n",
       "      <td>19</td>\n",
       "      <td>2818</td>\n",
       "      <td>109</td>\n",
       "      <td>3207</td>\n",
       "      <td>1793</td>\n",
       "      <td>362</td>\n",
       "      <td>4</td>\n",
       "    </tr>\n",
       "  </tbody>\n",
       "</table>\n",
       "</div>"
      ],
      "text/plain": [
       "       show_id   type                 title       director  \\\n",
       "count     8807   8807                  8807           6173   \n",
       "unique    8807      2                  8807           4528   \n",
       "top         s1  Movie  Dick Johnson Is Dead  Rajiv Chilaka   \n",
       "freq         1   6131                     1             19   \n",
       "\n",
       "                      cast        country       date_added rating  duration  \\\n",
       "count                 7982           7976             8797   8803      8804   \n",
       "unique                7692            748             1767     17       220   \n",
       "top     David Attenborough  United States  January 1, 2020  TV-MA  1 Season   \n",
       "freq                    19           2818              109   3207      1793   \n",
       "\n",
       "                           listed_in  \\\n",
       "count                           8807   \n",
       "unique                           514   \n",
       "top     Dramas, International Movies   \n",
       "freq                             362   \n",
       "\n",
       "                                              description  \n",
       "count                                                8807  \n",
       "unique                                               8775  \n",
       "top     Paranormal activity at a lush, abandoned prope...  \n",
       "freq                                                    4  "
      ]
     },
     "execution_count": 4,
     "metadata": {},
     "output_type": "execute_result"
    }
   ],
   "source": [
    "df.describe(include='object')"
   ]
  },
  {
   "cell_type": "markdown",
   "id": "1e9a409b",
   "metadata": {
    "papermill": {
     "duration": 0.054539,
     "end_time": "2022-05-30T20:10:53.569586",
     "exception": false,
     "start_time": "2022-05-30T20:10:53.515047",
     "status": "completed"
    },
    "tags": []
   },
   "source": [
    "# ***DATA CLEANING***"
   ]
  },
  {
   "cell_type": "code",
   "execution_count": 5,
   "id": "b9aaa03d",
   "metadata": {
    "execution": {
     "iopub.execute_input": "2022-05-30T20:10:53.702392Z",
     "iopub.status.busy": "2022-05-30T20:10:53.698202Z",
     "iopub.status.idle": "2022-05-30T20:10:53.707527Z",
     "shell.execute_reply": "2022-05-30T20:10:53.706768Z",
     "shell.execute_reply.started": "2022-05-30T20:10:21.324791Z"
    },
    "papermill": {
     "duration": 0.081169,
     "end_time": "2022-05-30T20:10:53.707699",
     "exception": false,
     "start_time": "2022-05-30T20:10:53.626530",
     "status": "completed"
    },
    "tags": []
   },
   "outputs": [
    {
     "data": {
      "text/plain": [
       "show_id            0\n",
       "type               0\n",
       "title              0\n",
       "director        2634\n",
       "cast             825\n",
       "country          831\n",
       "date_added        10\n",
       "release_year       0\n",
       "rating             4\n",
       "duration           3\n",
       "listed_in          0\n",
       "description        0\n",
       "dtype: int64"
      ]
     },
     "execution_count": 5,
     "metadata": {},
     "output_type": "execute_result"
    }
   ],
   "source": [
    "#check null value\n",
    "df.isnull().sum()"
   ]
  },
  {
   "cell_type": "code",
   "execution_count": 6,
   "id": "6595f03c",
   "metadata": {
    "execution": {
     "iopub.execute_input": "2022-05-30T20:10:53.824566Z",
     "iopub.status.busy": "2022-05-30T20:10:53.823423Z",
     "iopub.status.idle": "2022-05-30T20:10:53.844794Z",
     "shell.execute_reply": "2022-05-30T20:10:53.845301Z",
     "shell.execute_reply.started": "2022-05-30T20:10:21.519426Z"
    },
    "papermill": {
     "duration": 0.081837,
     "end_time": "2022-05-30T20:10:53.845526",
     "exception": false,
     "start_time": "2022-05-30T20:10:53.763689",
     "status": "completed"
    },
    "tags": []
   },
   "outputs": [
    {
     "data": {
      "text/html": [
       "<div>\n",
       "<style scoped>\n",
       "    .dataframe tbody tr th:only-of-type {\n",
       "        vertical-align: middle;\n",
       "    }\n",
       "\n",
       "    .dataframe tbody tr th {\n",
       "        vertical-align: top;\n",
       "    }\n",
       "\n",
       "    .dataframe thead th {\n",
       "        text-align: right;\n",
       "    }\n",
       "</style>\n",
       "<table border=\"1\" class=\"dataframe\">\n",
       "  <thead>\n",
       "    <tr style=\"text-align: right;\">\n",
       "      <th></th>\n",
       "      <th>show_id</th>\n",
       "      <th>type</th>\n",
       "      <th>title</th>\n",
       "      <th>director</th>\n",
       "      <th>cast</th>\n",
       "      <th>country</th>\n",
       "      <th>date_added</th>\n",
       "      <th>release_year</th>\n",
       "      <th>rating</th>\n",
       "      <th>duration</th>\n",
       "      <th>listed_in</th>\n",
       "      <th>description</th>\n",
       "    </tr>\n",
       "  </thead>\n",
       "  <tbody>\n",
       "    <tr>\n",
       "      <th>5989</th>\n",
       "      <td>s5990</td>\n",
       "      <td>Movie</td>\n",
       "      <td>13TH: A Conversation with Oprah Winfrey &amp; Ava ...</td>\n",
       "      <td>NaN</td>\n",
       "      <td>Oprah Winfrey, Ava DuVernay</td>\n",
       "      <td>NaN</td>\n",
       "      <td>January 26, 2017</td>\n",
       "      <td>2017</td>\n",
       "      <td>NaN</td>\n",
       "      <td>37 min</td>\n",
       "      <td>Movies</td>\n",
       "      <td>Oprah Winfrey sits down with director Ava DuVe...</td>\n",
       "    </tr>\n",
       "    <tr>\n",
       "      <th>6827</th>\n",
       "      <td>s6828</td>\n",
       "      <td>TV Show</td>\n",
       "      <td>Gargantia on the Verdurous Planet</td>\n",
       "      <td>NaN</td>\n",
       "      <td>Kaito Ishikawa, Hisako Kanemoto, Ai Kayano, Ka...</td>\n",
       "      <td>Japan</td>\n",
       "      <td>December 1, 2016</td>\n",
       "      <td>2013</td>\n",
       "      <td>NaN</td>\n",
       "      <td>1 Season</td>\n",
       "      <td>Anime Series, International TV Shows</td>\n",
       "      <td>After falling through a wormhole, a space-dwel...</td>\n",
       "    </tr>\n",
       "    <tr>\n",
       "      <th>7312</th>\n",
       "      <td>s7313</td>\n",
       "      <td>TV Show</td>\n",
       "      <td>Little Lunch</td>\n",
       "      <td>NaN</td>\n",
       "      <td>Flynn Curry, Olivia Deeble, Madison Lu, Oisín ...</td>\n",
       "      <td>Australia</td>\n",
       "      <td>February 1, 2018</td>\n",
       "      <td>2015</td>\n",
       "      <td>NaN</td>\n",
       "      <td>1 Season</td>\n",
       "      <td>Kids' TV, TV Comedies</td>\n",
       "      <td>Adopting a child's perspective, this show take...</td>\n",
       "    </tr>\n",
       "    <tr>\n",
       "      <th>7537</th>\n",
       "      <td>s7538</td>\n",
       "      <td>Movie</td>\n",
       "      <td>My Honor Was Loyalty</td>\n",
       "      <td>Alessandro Pepe</td>\n",
       "      <td>Leone Frisa, Paolo Vaccarino, Francesco Miglio...</td>\n",
       "      <td>Italy</td>\n",
       "      <td>March 1, 2017</td>\n",
       "      <td>2015</td>\n",
       "      <td>NaN</td>\n",
       "      <td>115 min</td>\n",
       "      <td>Dramas</td>\n",
       "      <td>Amid the chaos and horror of World War II, a c...</td>\n",
       "    </tr>\n",
       "  </tbody>\n",
       "</table>\n",
       "</div>"
      ],
      "text/plain": [
       "     show_id     type                                              title  \\\n",
       "5989   s5990    Movie  13TH: A Conversation with Oprah Winfrey & Ava ...   \n",
       "6827   s6828  TV Show                  Gargantia on the Verdurous Planet   \n",
       "7312   s7313  TV Show                                       Little Lunch   \n",
       "7537   s7538    Movie                               My Honor Was Loyalty   \n",
       "\n",
       "             director                                               cast  \\\n",
       "5989              NaN                        Oprah Winfrey, Ava DuVernay   \n",
       "6827              NaN  Kaito Ishikawa, Hisako Kanemoto, Ai Kayano, Ka...   \n",
       "7312              NaN  Flynn Curry, Olivia Deeble, Madison Lu, Oisín ...   \n",
       "7537  Alessandro Pepe  Leone Frisa, Paolo Vaccarino, Francesco Miglio...   \n",
       "\n",
       "        country        date_added  release_year rating  duration  \\\n",
       "5989        NaN  January 26, 2017          2017    NaN    37 min   \n",
       "6827      Japan  December 1, 2016          2013    NaN  1 Season   \n",
       "7312  Australia  February 1, 2018          2015    NaN  1 Season   \n",
       "7537      Italy     March 1, 2017          2015    NaN   115 min   \n",
       "\n",
       "                                 listed_in  \\\n",
       "5989                                Movies   \n",
       "6827  Anime Series, International TV Shows   \n",
       "7312                 Kids' TV, TV Comedies   \n",
       "7537                                Dramas   \n",
       "\n",
       "                                            description  \n",
       "5989  Oprah Winfrey sits down with director Ava DuVe...  \n",
       "6827  After falling through a wormhole, a space-dwel...  \n",
       "7312  Adopting a child's perspective, this show take...  \n",
       "7537  Amid the chaos and horror of World War II, a c...  "
      ]
     },
     "execution_count": 6,
     "metadata": {},
     "output_type": "execute_result"
    }
   ],
   "source": [
    "df[df['rating'].isnull()]"
   ]
  },
  {
   "cell_type": "code",
   "execution_count": 7,
   "id": "ffa77cd5",
   "metadata": {
    "execution": {
     "iopub.execute_input": "2022-05-30T20:10:53.977095Z",
     "iopub.status.busy": "2022-05-30T20:10:53.962730Z",
     "iopub.status.idle": "2022-05-30T20:10:53.979884Z",
     "shell.execute_reply": "2022-05-30T20:10:53.980368Z",
     "shell.execute_reply.started": "2022-05-30T20:10:21.635402Z"
    },
    "papermill": {
     "duration": 0.07755,
     "end_time": "2022-05-30T20:10:53.980568",
     "exception": false,
     "start_time": "2022-05-30T20:10:53.903018",
     "status": "completed"
    },
    "tags": []
   },
   "outputs": [
    {
     "data": {
      "text/html": [
       "<div>\n",
       "<style scoped>\n",
       "    .dataframe tbody tr th:only-of-type {\n",
       "        vertical-align: middle;\n",
       "    }\n",
       "\n",
       "    .dataframe tbody tr th {\n",
       "        vertical-align: top;\n",
       "    }\n",
       "\n",
       "    .dataframe thead th {\n",
       "        text-align: right;\n",
       "    }\n",
       "</style>\n",
       "<table border=\"1\" class=\"dataframe\">\n",
       "  <thead>\n",
       "    <tr style=\"text-align: right;\">\n",
       "      <th></th>\n",
       "      <th>show_id</th>\n",
       "      <th>type</th>\n",
       "      <th>title</th>\n",
       "      <th>director</th>\n",
       "      <th>cast</th>\n",
       "      <th>country</th>\n",
       "      <th>date_added</th>\n",
       "      <th>release_year</th>\n",
       "      <th>rating</th>\n",
       "      <th>duration</th>\n",
       "      <th>listed_in</th>\n",
       "      <th>description</th>\n",
       "    </tr>\n",
       "  </thead>\n",
       "  <tbody>\n",
       "    <tr>\n",
       "      <th>5541</th>\n",
       "      <td>s5542</td>\n",
       "      <td>Movie</td>\n",
       "      <td>Louis C.K. 2017</td>\n",
       "      <td>Louis C.K.</td>\n",
       "      <td>Louis C.K.</td>\n",
       "      <td>United States</td>\n",
       "      <td>April 4, 2017</td>\n",
       "      <td>2017</td>\n",
       "      <td>74 min</td>\n",
       "      <td>NaN</td>\n",
       "      <td>Movies</td>\n",
       "      <td>Louis C.K. muses on religion, eternal love, gi...</td>\n",
       "    </tr>\n",
       "    <tr>\n",
       "      <th>5794</th>\n",
       "      <td>s5795</td>\n",
       "      <td>Movie</td>\n",
       "      <td>Louis C.K.: Hilarious</td>\n",
       "      <td>Louis C.K.</td>\n",
       "      <td>Louis C.K.</td>\n",
       "      <td>United States</td>\n",
       "      <td>September 16, 2016</td>\n",
       "      <td>2010</td>\n",
       "      <td>84 min</td>\n",
       "      <td>NaN</td>\n",
       "      <td>Movies</td>\n",
       "      <td>Emmy-winning comedy writer Louis C.K. brings h...</td>\n",
       "    </tr>\n",
       "    <tr>\n",
       "      <th>5813</th>\n",
       "      <td>s5814</td>\n",
       "      <td>Movie</td>\n",
       "      <td>Louis C.K.: Live at the Comedy Store</td>\n",
       "      <td>Louis C.K.</td>\n",
       "      <td>Louis C.K.</td>\n",
       "      <td>United States</td>\n",
       "      <td>August 15, 2016</td>\n",
       "      <td>2015</td>\n",
       "      <td>66 min</td>\n",
       "      <td>NaN</td>\n",
       "      <td>Movies</td>\n",
       "      <td>The comic puts his trademark hilarious/thought...</td>\n",
       "    </tr>\n",
       "  </tbody>\n",
       "</table>\n",
       "</div>"
      ],
      "text/plain": [
       "     show_id   type                                 title    director  \\\n",
       "5541   s5542  Movie                       Louis C.K. 2017  Louis C.K.   \n",
       "5794   s5795  Movie                 Louis C.K.: Hilarious  Louis C.K.   \n",
       "5813   s5814  Movie  Louis C.K.: Live at the Comedy Store  Louis C.K.   \n",
       "\n",
       "            cast        country          date_added  release_year  rating  \\\n",
       "5541  Louis C.K.  United States       April 4, 2017          2017  74 min   \n",
       "5794  Louis C.K.  United States  September 16, 2016          2010  84 min   \n",
       "5813  Louis C.K.  United States     August 15, 2016          2015  66 min   \n",
       "\n",
       "     duration listed_in                                        description  \n",
       "5541      NaN    Movies  Louis C.K. muses on religion, eternal love, gi...  \n",
       "5794      NaN    Movies  Emmy-winning comedy writer Louis C.K. brings h...  \n",
       "5813      NaN    Movies  The comic puts his trademark hilarious/thought...  "
      ]
     },
     "execution_count": 7,
     "metadata": {},
     "output_type": "execute_result"
    }
   ],
   "source": [
    "df[df['duration'].isnull()]"
   ]
  },
  {
   "cell_type": "code",
   "execution_count": 8,
   "id": "76cd47a6",
   "metadata": {
    "execution": {
     "iopub.execute_input": "2022-05-30T20:10:54.097004Z",
     "iopub.status.busy": "2022-05-30T20:10:54.096086Z",
     "iopub.status.idle": "2022-05-30T20:10:54.106271Z",
     "shell.execute_reply": "2022-05-30T20:10:54.107018Z",
     "shell.execute_reply.started": "2022-05-30T20:10:21.718386Z"
    },
    "papermill": {
     "duration": 0.07091,
     "end_time": "2022-05-30T20:10:54.107223",
     "exception": false,
     "start_time": "2022-05-30T20:10:54.036313",
     "status": "completed"
    },
    "tags": []
   },
   "outputs": [],
   "source": [
    "df.loc[5541,'duration'] = '74 min'\n",
    "df.loc[5541,'rating']= np.nan\n",
    "df.loc[5794,'duration'] = '84 min'\n",
    "df.loc[5794,'rating']= np.nan\n",
    "df.loc[5813,'duration'] = '66 min'\n",
    "df.loc[5813,'rating']= np.nan\n"
   ]
  },
  {
   "cell_type": "code",
   "execution_count": 9,
   "id": "62dffa60",
   "metadata": {
    "execution": {
     "iopub.execute_input": "2022-05-30T20:10:54.224794Z",
     "iopub.status.busy": "2022-05-30T20:10:54.224121Z",
     "iopub.status.idle": "2022-05-30T20:10:54.232234Z",
     "shell.execute_reply": "2022-05-30T20:10:54.232812Z",
     "shell.execute_reply.started": "2022-05-30T20:10:21.826342Z"
    },
    "papermill": {
     "duration": 0.068549,
     "end_time": "2022-05-30T20:10:54.232987",
     "exception": false,
     "start_time": "2022-05-30T20:10:54.164438",
     "status": "completed"
    },
    "tags": []
   },
   "outputs": [],
   "source": [
    "df.drop(['director','cast'],axis = 1,inplace = True,errors = 'ignore')"
   ]
  },
  {
   "cell_type": "code",
   "execution_count": 10,
   "id": "5afcbf9b",
   "metadata": {
    "execution": {
     "iopub.execute_input": "2022-05-30T20:10:54.372890Z",
     "iopub.status.busy": "2022-05-30T20:10:54.350349Z",
     "iopub.status.idle": "2022-05-30T20:10:54.375587Z",
     "shell.execute_reply": "2022-05-30T20:10:54.376182Z",
     "shell.execute_reply.started": "2022-05-30T20:10:21.949464Z"
    },
    "papermill": {
     "duration": 0.086621,
     "end_time": "2022-05-30T20:10:54.376357",
     "exception": false,
     "start_time": "2022-05-30T20:10:54.289736",
     "status": "completed"
    },
    "tags": []
   },
   "outputs": [
    {
     "data": {
      "text/html": [
       "<div>\n",
       "<style scoped>\n",
       "    .dataframe tbody tr th:only-of-type {\n",
       "        vertical-align: middle;\n",
       "    }\n",
       "\n",
       "    .dataframe tbody tr th {\n",
       "        vertical-align: top;\n",
       "    }\n",
       "\n",
       "    .dataframe thead th {\n",
       "        text-align: right;\n",
       "    }\n",
       "</style>\n",
       "<table border=\"1\" class=\"dataframe\">\n",
       "  <thead>\n",
       "    <tr style=\"text-align: right;\">\n",
       "      <th></th>\n",
       "      <th>show_id</th>\n",
       "      <th>type</th>\n",
       "      <th>title</th>\n",
       "      <th>country</th>\n",
       "      <th>date_added</th>\n",
       "      <th>release_year</th>\n",
       "      <th>rating</th>\n",
       "      <th>duration</th>\n",
       "      <th>listed_in</th>\n",
       "      <th>description</th>\n",
       "    </tr>\n",
       "  </thead>\n",
       "  <tbody>\n",
       "    <tr>\n",
       "      <th>0</th>\n",
       "      <td>s1</td>\n",
       "      <td>Movie</td>\n",
       "      <td>Dick Johnson Is Dead</td>\n",
       "      <td>United States</td>\n",
       "      <td>September 25, 2021</td>\n",
       "      <td>2020</td>\n",
       "      <td>PG-13</td>\n",
       "      <td>90 min</td>\n",
       "      <td>Documentaries</td>\n",
       "      <td>As her father nears the end of his life, filmm...</td>\n",
       "    </tr>\n",
       "    <tr>\n",
       "      <th>1</th>\n",
       "      <td>s2</td>\n",
       "      <td>TV Show</td>\n",
       "      <td>Blood &amp; Water</td>\n",
       "      <td>South Africa</td>\n",
       "      <td>September 24, 2021</td>\n",
       "      <td>2021</td>\n",
       "      <td>TV-MA</td>\n",
       "      <td>2 Seasons</td>\n",
       "      <td>International TV Shows, TV Dramas, TV Mysteries</td>\n",
       "      <td>After crossing paths at a party, a Cape Town t...</td>\n",
       "    </tr>\n",
       "    <tr>\n",
       "      <th>2</th>\n",
       "      <td>s3</td>\n",
       "      <td>TV Show</td>\n",
       "      <td>Ganglands</td>\n",
       "      <td>United States</td>\n",
       "      <td>September 24, 2021</td>\n",
       "      <td>2021</td>\n",
       "      <td>TV-MA</td>\n",
       "      <td>1 Season</td>\n",
       "      <td>Crime TV Shows, International TV Shows, TV Act...</td>\n",
       "      <td>To protect his family from a powerful drug lor...</td>\n",
       "    </tr>\n",
       "    <tr>\n",
       "      <th>3</th>\n",
       "      <td>s4</td>\n",
       "      <td>TV Show</td>\n",
       "      <td>Jailbirds New Orleans</td>\n",
       "      <td>United States</td>\n",
       "      <td>September 24, 2021</td>\n",
       "      <td>2021</td>\n",
       "      <td>TV-MA</td>\n",
       "      <td>1 Season</td>\n",
       "      <td>Docuseries, Reality TV</td>\n",
       "      <td>Feuds, flirtations and toilet talk go down amo...</td>\n",
       "    </tr>\n",
       "    <tr>\n",
       "      <th>4</th>\n",
       "      <td>s5</td>\n",
       "      <td>TV Show</td>\n",
       "      <td>Kota Factory</td>\n",
       "      <td>India</td>\n",
       "      <td>September 24, 2021</td>\n",
       "      <td>2021</td>\n",
       "      <td>TV-MA</td>\n",
       "      <td>2 Seasons</td>\n",
       "      <td>International TV Shows, Romantic TV Shows, TV ...</td>\n",
       "      <td>In a city of coaching centers known to train I...</td>\n",
       "    </tr>\n",
       "    <tr>\n",
       "      <th>...</th>\n",
       "      <td>...</td>\n",
       "      <td>...</td>\n",
       "      <td>...</td>\n",
       "      <td>...</td>\n",
       "      <td>...</td>\n",
       "      <td>...</td>\n",
       "      <td>...</td>\n",
       "      <td>...</td>\n",
       "      <td>...</td>\n",
       "      <td>...</td>\n",
       "    </tr>\n",
       "    <tr>\n",
       "      <th>8802</th>\n",
       "      <td>s8803</td>\n",
       "      <td>Movie</td>\n",
       "      <td>Zodiac</td>\n",
       "      <td>United States</td>\n",
       "      <td>November 20, 2019</td>\n",
       "      <td>2007</td>\n",
       "      <td>R</td>\n",
       "      <td>158 min</td>\n",
       "      <td>Cult Movies, Dramas, Thrillers</td>\n",
       "      <td>A political cartoonist, a crime reporter and a...</td>\n",
       "    </tr>\n",
       "    <tr>\n",
       "      <th>8803</th>\n",
       "      <td>s8804</td>\n",
       "      <td>TV Show</td>\n",
       "      <td>Zombie Dumb</td>\n",
       "      <td>United States</td>\n",
       "      <td>July 1, 2019</td>\n",
       "      <td>2018</td>\n",
       "      <td>TV-Y7</td>\n",
       "      <td>2 Seasons</td>\n",
       "      <td>Kids' TV, Korean TV Shows, TV Comedies</td>\n",
       "      <td>While living alone in a spooky town, a young g...</td>\n",
       "    </tr>\n",
       "    <tr>\n",
       "      <th>8804</th>\n",
       "      <td>s8805</td>\n",
       "      <td>Movie</td>\n",
       "      <td>Zombieland</td>\n",
       "      <td>United States</td>\n",
       "      <td>November 1, 2019</td>\n",
       "      <td>2009</td>\n",
       "      <td>R</td>\n",
       "      <td>88 min</td>\n",
       "      <td>Comedies, Horror Movies</td>\n",
       "      <td>Looking to survive in a world taken over by zo...</td>\n",
       "    </tr>\n",
       "    <tr>\n",
       "      <th>8805</th>\n",
       "      <td>s8806</td>\n",
       "      <td>Movie</td>\n",
       "      <td>Zoom</td>\n",
       "      <td>United States</td>\n",
       "      <td>January 11, 2020</td>\n",
       "      <td>2006</td>\n",
       "      <td>PG</td>\n",
       "      <td>88 min</td>\n",
       "      <td>Children &amp; Family Movies, Comedies</td>\n",
       "      <td>Dragged from civilian life, a former superhero...</td>\n",
       "    </tr>\n",
       "    <tr>\n",
       "      <th>8806</th>\n",
       "      <td>s8807</td>\n",
       "      <td>Movie</td>\n",
       "      <td>Zubaan</td>\n",
       "      <td>India</td>\n",
       "      <td>March 2, 2019</td>\n",
       "      <td>2015</td>\n",
       "      <td>TV-14</td>\n",
       "      <td>111 min</td>\n",
       "      <td>Dramas, International Movies, Music &amp; Musicals</td>\n",
       "      <td>A scrappy but poor boy worms his way into a ty...</td>\n",
       "    </tr>\n",
       "  </tbody>\n",
       "</table>\n",
       "<p>8807 rows × 10 columns</p>\n",
       "</div>"
      ],
      "text/plain": [
       "     show_id     type                  title        country  \\\n",
       "0         s1    Movie   Dick Johnson Is Dead  United States   \n",
       "1         s2  TV Show          Blood & Water   South Africa   \n",
       "2         s3  TV Show              Ganglands  United States   \n",
       "3         s4  TV Show  Jailbirds New Orleans  United States   \n",
       "4         s5  TV Show           Kota Factory          India   \n",
       "...      ...      ...                    ...            ...   \n",
       "8802   s8803    Movie                 Zodiac  United States   \n",
       "8803   s8804  TV Show            Zombie Dumb  United States   \n",
       "8804   s8805    Movie             Zombieland  United States   \n",
       "8805   s8806    Movie                   Zoom  United States   \n",
       "8806   s8807    Movie                 Zubaan          India   \n",
       "\n",
       "              date_added  release_year rating   duration  \\\n",
       "0     September 25, 2021          2020  PG-13     90 min   \n",
       "1     September 24, 2021          2021  TV-MA  2 Seasons   \n",
       "2     September 24, 2021          2021  TV-MA   1 Season   \n",
       "3     September 24, 2021          2021  TV-MA   1 Season   \n",
       "4     September 24, 2021          2021  TV-MA  2 Seasons   \n",
       "...                  ...           ...    ...        ...   \n",
       "8802   November 20, 2019          2007      R    158 min   \n",
       "8803        July 1, 2019          2018  TV-Y7  2 Seasons   \n",
       "8804    November 1, 2019          2009      R     88 min   \n",
       "8805    January 11, 2020          2006     PG     88 min   \n",
       "8806       March 2, 2019          2015  TV-14    111 min   \n",
       "\n",
       "                                              listed_in  \\\n",
       "0                                         Documentaries   \n",
       "1       International TV Shows, TV Dramas, TV Mysteries   \n",
       "2     Crime TV Shows, International TV Shows, TV Act...   \n",
       "3                                Docuseries, Reality TV   \n",
       "4     International TV Shows, Romantic TV Shows, TV ...   \n",
       "...                                                 ...   \n",
       "8802                     Cult Movies, Dramas, Thrillers   \n",
       "8803             Kids' TV, Korean TV Shows, TV Comedies   \n",
       "8804                            Comedies, Horror Movies   \n",
       "8805                 Children & Family Movies, Comedies   \n",
       "8806     Dramas, International Movies, Music & Musicals   \n",
       "\n",
       "                                            description  \n",
       "0     As her father nears the end of his life, filmm...  \n",
       "1     After crossing paths at a party, a Cape Town t...  \n",
       "2     To protect his family from a powerful drug lor...  \n",
       "3     Feuds, flirtations and toilet talk go down amo...  \n",
       "4     In a city of coaching centers known to train I...  \n",
       "...                                                 ...  \n",
       "8802  A political cartoonist, a crime reporter and a...  \n",
       "8803  While living alone in a spooky town, a young g...  \n",
       "8804  Looking to survive in a world taken over by zo...  \n",
       "8805  Dragged from civilian life, a former superhero...  \n",
       "8806  A scrappy but poor boy worms his way into a ty...  \n",
       "\n",
       "[8807 rows x 10 columns]"
      ]
     },
     "execution_count": 10,
     "metadata": {},
     "output_type": "execute_result"
    }
   ],
   "source": [
    "df['country'] = df['country'].fillna(df['country'].mode()[0])\n",
    "df"
   ]
  },
  {
   "cell_type": "code",
   "execution_count": 11,
   "id": "7b78786b",
   "metadata": {
    "execution": {
     "iopub.execute_input": "2022-05-30T20:10:54.494474Z",
     "iopub.status.busy": "2022-05-30T20:10:54.493802Z",
     "iopub.status.idle": "2022-05-30T20:10:54.501751Z",
     "shell.execute_reply": "2022-05-30T20:10:54.502281Z",
     "shell.execute_reply.started": "2022-05-30T20:10:22.054847Z"
    },
    "papermill": {
     "duration": 0.069,
     "end_time": "2022-05-30T20:10:54.502478",
     "exception": false,
     "start_time": "2022-05-30T20:10:54.433478",
     "status": "completed"
    },
    "tags": []
   },
   "outputs": [],
   "source": [
    "df['rating'].fillna(df['rating'].mode()[0],inplace=True)"
   ]
  },
  {
   "cell_type": "code",
   "execution_count": 12,
   "id": "4a7c5710",
   "metadata": {
    "execution": {
     "iopub.execute_input": "2022-05-30T20:10:54.621928Z",
     "iopub.status.busy": "2022-05-30T20:10:54.621246Z",
     "iopub.status.idle": "2022-05-30T20:10:54.638554Z",
     "shell.execute_reply": "2022-05-30T20:10:54.639162Z",
     "shell.execute_reply.started": "2022-05-30T20:10:22.114160Z"
    },
    "papermill": {
     "duration": 0.078298,
     "end_time": "2022-05-30T20:10:54.639333",
     "exception": false,
     "start_time": "2022-05-30T20:10:54.561035",
     "status": "completed"
    },
    "tags": []
   },
   "outputs": [
    {
     "data": {
      "text/plain": [
       "show_id          0\n",
       "type             0\n",
       "title            0\n",
       "country          0\n",
       "date_added      10\n",
       "release_year     0\n",
       "rating           0\n",
       "duration         0\n",
       "listed_in        0\n",
       "description      0\n",
       "dtype: int64"
      ]
     },
     "execution_count": 12,
     "metadata": {},
     "output_type": "execute_result"
    }
   ],
   "source": [
    "df.isnull().sum()"
   ]
  },
  {
   "cell_type": "code",
   "execution_count": 13,
   "id": "bdf4c0df",
   "metadata": {
    "execution": {
     "iopub.execute_input": "2022-05-30T20:10:54.760306Z",
     "iopub.status.busy": "2022-05-30T20:10:54.757069Z",
     "iopub.status.idle": "2022-05-30T20:10:54.775537Z",
     "shell.execute_reply": "2022-05-30T20:10:54.776178Z",
     "shell.execute_reply.started": "2022-05-30T20:10:22.232726Z"
    },
    "papermill": {
     "duration": 0.07949,
     "end_time": "2022-05-30T20:10:54.776351",
     "exception": false,
     "start_time": "2022-05-30T20:10:54.696861",
     "status": "completed"
    },
    "tags": []
   },
   "outputs": [
    {
     "data": {
      "text/html": [
       "<div>\n",
       "<style scoped>\n",
       "    .dataframe tbody tr th:only-of-type {\n",
       "        vertical-align: middle;\n",
       "    }\n",
       "\n",
       "    .dataframe tbody tr th {\n",
       "        vertical-align: top;\n",
       "    }\n",
       "\n",
       "    .dataframe thead th {\n",
       "        text-align: right;\n",
       "    }\n",
       "</style>\n",
       "<table border=\"1\" class=\"dataframe\">\n",
       "  <thead>\n",
       "    <tr style=\"text-align: right;\">\n",
       "      <th></th>\n",
       "      <th>show_id</th>\n",
       "      <th>type</th>\n",
       "      <th>title</th>\n",
       "      <th>country</th>\n",
       "      <th>date_added</th>\n",
       "      <th>release_year</th>\n",
       "      <th>rating</th>\n",
       "      <th>duration</th>\n",
       "      <th>listed_in</th>\n",
       "      <th>description</th>\n",
       "    </tr>\n",
       "  </thead>\n",
       "  <tbody>\n",
       "    <tr>\n",
       "      <th>6066</th>\n",
       "      <td>s6067</td>\n",
       "      <td>TV Show</td>\n",
       "      <td>A Young Doctor's Notebook and Other Stories</td>\n",
       "      <td>United Kingdom</td>\n",
       "      <td>NaN</td>\n",
       "      <td>2013</td>\n",
       "      <td>TV-MA</td>\n",
       "      <td>2 Seasons</td>\n",
       "      <td>British TV Shows, TV Comedies, TV Dramas</td>\n",
       "      <td>Set during the Russian Revolution, this comic ...</td>\n",
       "    </tr>\n",
       "    <tr>\n",
       "      <th>6174</th>\n",
       "      <td>s6175</td>\n",
       "      <td>TV Show</td>\n",
       "      <td>Anthony Bourdain: Parts Unknown</td>\n",
       "      <td>United States</td>\n",
       "      <td>NaN</td>\n",
       "      <td>2018</td>\n",
       "      <td>TV-PG</td>\n",
       "      <td>5 Seasons</td>\n",
       "      <td>Docuseries</td>\n",
       "      <td>This CNN original series has chef Anthony Bour...</td>\n",
       "    </tr>\n",
       "    <tr>\n",
       "      <th>6795</th>\n",
       "      <td>s6796</td>\n",
       "      <td>TV Show</td>\n",
       "      <td>Frasier</td>\n",
       "      <td>United States</td>\n",
       "      <td>NaN</td>\n",
       "      <td>2003</td>\n",
       "      <td>TV-PG</td>\n",
       "      <td>11 Seasons</td>\n",
       "      <td>Classic &amp; Cult TV, TV Comedies</td>\n",
       "      <td>Frasier Crane is a snooty but lovable Seattle ...</td>\n",
       "    </tr>\n",
       "    <tr>\n",
       "      <th>6806</th>\n",
       "      <td>s6807</td>\n",
       "      <td>TV Show</td>\n",
       "      <td>Friends</td>\n",
       "      <td>United States</td>\n",
       "      <td>NaN</td>\n",
       "      <td>2003</td>\n",
       "      <td>TV-14</td>\n",
       "      <td>10 Seasons</td>\n",
       "      <td>Classic &amp; Cult TV, TV Comedies</td>\n",
       "      <td>This hit sitcom follows the merry misadventure...</td>\n",
       "    </tr>\n",
       "    <tr>\n",
       "      <th>6901</th>\n",
       "      <td>s6902</td>\n",
       "      <td>TV Show</td>\n",
       "      <td>Gunslinger Girl</td>\n",
       "      <td>Japan</td>\n",
       "      <td>NaN</td>\n",
       "      <td>2008</td>\n",
       "      <td>TV-14</td>\n",
       "      <td>2 Seasons</td>\n",
       "      <td>Anime Series, Crime TV Shows</td>\n",
       "      <td>On the surface, the Social Welfare Agency appe...</td>\n",
       "    </tr>\n",
       "    <tr>\n",
       "      <th>7196</th>\n",
       "      <td>s7197</td>\n",
       "      <td>TV Show</td>\n",
       "      <td>Kikoriki</td>\n",
       "      <td>United States</td>\n",
       "      <td>NaN</td>\n",
       "      <td>2010</td>\n",
       "      <td>TV-Y</td>\n",
       "      <td>2 Seasons</td>\n",
       "      <td>Kids' TV</td>\n",
       "      <td>A wacky rabbit and his gang of animal pals hav...</td>\n",
       "    </tr>\n",
       "    <tr>\n",
       "      <th>7254</th>\n",
       "      <td>s7255</td>\n",
       "      <td>TV Show</td>\n",
       "      <td>La Familia P. Luche</td>\n",
       "      <td>United States</td>\n",
       "      <td>NaN</td>\n",
       "      <td>2012</td>\n",
       "      <td>TV-14</td>\n",
       "      <td>3 Seasons</td>\n",
       "      <td>International TV Shows, Spanish-Language TV Sh...</td>\n",
       "      <td>This irreverent sitcom featues Ludovico, Feder...</td>\n",
       "    </tr>\n",
       "    <tr>\n",
       "      <th>7406</th>\n",
       "      <td>s7407</td>\n",
       "      <td>TV Show</td>\n",
       "      <td>Maron</td>\n",
       "      <td>United States</td>\n",
       "      <td>NaN</td>\n",
       "      <td>2016</td>\n",
       "      <td>TV-MA</td>\n",
       "      <td>4 Seasons</td>\n",
       "      <td>TV Comedies</td>\n",
       "      <td>Marc Maron stars as Marc Maron, who interviews...</td>\n",
       "    </tr>\n",
       "    <tr>\n",
       "      <th>7847</th>\n",
       "      <td>s7848</td>\n",
       "      <td>TV Show</td>\n",
       "      <td>Red vs. Blue</td>\n",
       "      <td>United States</td>\n",
       "      <td>NaN</td>\n",
       "      <td>2015</td>\n",
       "      <td>NR</td>\n",
       "      <td>13 Seasons</td>\n",
       "      <td>TV Action &amp; Adventure, TV Comedies, TV Sci-Fi ...</td>\n",
       "      <td>This parody of first-person shooter games, mil...</td>\n",
       "    </tr>\n",
       "    <tr>\n",
       "      <th>8182</th>\n",
       "      <td>s8183</td>\n",
       "      <td>TV Show</td>\n",
       "      <td>The Adventures of Figaro Pho</td>\n",
       "      <td>Australia</td>\n",
       "      <td>NaN</td>\n",
       "      <td>2015</td>\n",
       "      <td>TV-Y7</td>\n",
       "      <td>2 Seasons</td>\n",
       "      <td>Kids' TV, TV Comedies</td>\n",
       "      <td>Imagine your worst fears, then multiply them: ...</td>\n",
       "    </tr>\n",
       "  </tbody>\n",
       "</table>\n",
       "</div>"
      ],
      "text/plain": [
       "     show_id     type                                        title  \\\n",
       "6066   s6067  TV Show  A Young Doctor's Notebook and Other Stories   \n",
       "6174   s6175  TV Show              Anthony Bourdain: Parts Unknown   \n",
       "6795   s6796  TV Show                                      Frasier   \n",
       "6806   s6807  TV Show                                      Friends   \n",
       "6901   s6902  TV Show                              Gunslinger Girl   \n",
       "7196   s7197  TV Show                                     Kikoriki   \n",
       "7254   s7255  TV Show                          La Familia P. Luche   \n",
       "7406   s7407  TV Show                                        Maron   \n",
       "7847   s7848  TV Show                                 Red vs. Blue   \n",
       "8182   s8183  TV Show                 The Adventures of Figaro Pho   \n",
       "\n",
       "             country date_added  release_year rating    duration  \\\n",
       "6066  United Kingdom        NaN          2013  TV-MA   2 Seasons   \n",
       "6174   United States        NaN          2018  TV-PG   5 Seasons   \n",
       "6795   United States        NaN          2003  TV-PG  11 Seasons   \n",
       "6806   United States        NaN          2003  TV-14  10 Seasons   \n",
       "6901           Japan        NaN          2008  TV-14   2 Seasons   \n",
       "7196   United States        NaN          2010   TV-Y   2 Seasons   \n",
       "7254   United States        NaN          2012  TV-14   3 Seasons   \n",
       "7406   United States        NaN          2016  TV-MA   4 Seasons   \n",
       "7847   United States        NaN          2015     NR  13 Seasons   \n",
       "8182       Australia        NaN          2015  TV-Y7   2 Seasons   \n",
       "\n",
       "                                              listed_in  \\\n",
       "6066           British TV Shows, TV Comedies, TV Dramas   \n",
       "6174                                         Docuseries   \n",
       "6795                     Classic & Cult TV, TV Comedies   \n",
       "6806                     Classic & Cult TV, TV Comedies   \n",
       "6901                       Anime Series, Crime TV Shows   \n",
       "7196                                           Kids' TV   \n",
       "7254  International TV Shows, Spanish-Language TV Sh...   \n",
       "7406                                        TV Comedies   \n",
       "7847  TV Action & Adventure, TV Comedies, TV Sci-Fi ...   \n",
       "8182                              Kids' TV, TV Comedies   \n",
       "\n",
       "                                            description  \n",
       "6066  Set during the Russian Revolution, this comic ...  \n",
       "6174  This CNN original series has chef Anthony Bour...  \n",
       "6795  Frasier Crane is a snooty but lovable Seattle ...  \n",
       "6806  This hit sitcom follows the merry misadventure...  \n",
       "6901  On the surface, the Social Welfare Agency appe...  \n",
       "7196  A wacky rabbit and his gang of animal pals hav...  \n",
       "7254  This irreverent sitcom featues Ludovico, Feder...  \n",
       "7406  Marc Maron stars as Marc Maron, who interviews...  \n",
       "7847  This parody of first-person shooter games, mil...  \n",
       "8182  Imagine your worst fears, then multiply them: ...  "
      ]
     },
     "execution_count": 13,
     "metadata": {},
     "output_type": "execute_result"
    }
   ],
   "source": [
    "df[df['date_added'].isnull()]"
   ]
  },
  {
   "cell_type": "code",
   "execution_count": 14,
   "id": "78c1565c",
   "metadata": {
    "execution": {
     "iopub.execute_input": "2022-05-30T20:10:54.899012Z",
     "iopub.status.busy": "2022-05-30T20:10:54.898331Z",
     "iopub.status.idle": "2022-05-30T20:10:54.919122Z",
     "shell.execute_reply": "2022-05-30T20:10:54.919762Z",
     "shell.execute_reply.started": "2022-05-30T20:10:22.379149Z"
    },
    "papermill": {
     "duration": 0.084649,
     "end_time": "2022-05-30T20:10:54.919939",
     "exception": false,
     "start_time": "2022-05-30T20:10:54.835290",
     "status": "completed"
    },
    "tags": []
   },
   "outputs": [
    {
     "data": {
      "text/plain": [
       "show_id         0\n",
       "type            0\n",
       "title           0\n",
       "country         0\n",
       "date_added      0\n",
       "release_year    0\n",
       "rating          0\n",
       "duration        0\n",
       "listed_in       0\n",
       "description     0\n",
       "dtype: int64"
      ]
     },
     "execution_count": 14,
     "metadata": {},
     "output_type": "execute_result"
    }
   ],
   "source": [
    "df = df[df['date_added'].notna()]\n",
    "df.isnull().sum()"
   ]
  },
  {
   "cell_type": "code",
   "execution_count": 15,
   "id": "22c560eb",
   "metadata": {
    "execution": {
     "iopub.execute_input": "2022-05-30T20:10:55.042763Z",
     "iopub.status.busy": "2022-05-30T20:10:55.042013Z",
     "iopub.status.idle": "2022-05-30T20:10:55.064583Z",
     "shell.execute_reply": "2022-05-30T20:10:55.065142Z",
     "shell.execute_reply.started": "2022-05-30T20:10:22.476735Z"
    },
    "papermill": {
     "duration": 0.086531,
     "end_time": "2022-05-30T20:10:55.065345",
     "exception": false,
     "start_time": "2022-05-30T20:10:54.978814",
     "status": "completed"
    },
    "tags": []
   },
   "outputs": [
    {
     "name": "stdout",
     "output_type": "stream",
     "text": [
      "<class 'pandas.core.frame.DataFrame'>\n",
      "Int64Index: 8797 entries, 0 to 8806\n",
      "Data columns (total 10 columns):\n",
      " #   Column        Non-Null Count  Dtype \n",
      "---  ------        --------------  ----- \n",
      " 0   show_id       8797 non-null   object\n",
      " 1   type          8797 non-null   object\n",
      " 2   title         8797 non-null   object\n",
      " 3   country       8797 non-null   object\n",
      " 4   date_added    8797 non-null   object\n",
      " 5   release_year  8797 non-null   int64 \n",
      " 6   rating        8797 non-null   object\n",
      " 7   duration      8797 non-null   object\n",
      " 8   listed_in     8797 non-null   object\n",
      " 9   description   8797 non-null   object\n",
      "dtypes: int64(1), object(9)\n",
      "memory usage: 756.0+ KB\n"
     ]
    }
   ],
   "source": [
    "df.info()"
   ]
  },
  {
   "cell_type": "code",
   "execution_count": 16,
   "id": "0682756d",
   "metadata": {
    "execution": {
     "iopub.execute_input": "2022-05-30T20:10:55.190362Z",
     "iopub.status.busy": "2022-05-30T20:10:55.189719Z",
     "iopub.status.idle": "2022-05-30T20:10:55.417592Z",
     "shell.execute_reply": "2022-05-30T20:10:55.416929Z",
     "shell.execute_reply.started": "2022-05-30T20:10:22.623561Z"
    },
    "papermill": {
     "duration": 0.293174,
     "end_time": "2022-05-30T20:10:55.417756",
     "exception": false,
     "start_time": "2022-05-30T20:10:55.124582",
     "status": "completed"
    },
    "tags": []
   },
   "outputs": [
    {
     "name": "stderr",
     "output_type": "stream",
     "text": [
      "/opt/conda/lib/python3.7/site-packages/ipykernel_launcher.py:1: SettingWithCopyWarning: \n",
      "A value is trying to be set on a copy of a slice from a DataFrame.\n",
      "Try using .loc[row_indexer,col_indexer] = value instead\n",
      "\n",
      "See the caveats in the documentation: https://pandas.pydata.org/pandas-docs/stable/user_guide/indexing.html#returning-a-view-versus-a-copy\n",
      "  \"\"\"Entry point for launching an IPython kernel.\n",
      "/opt/conda/lib/python3.7/site-packages/ipykernel_launcher.py:2: SettingWithCopyWarning: \n",
      "A value is trying to be set on a copy of a slice from a DataFrame.\n",
      "Try using .loc[row_indexer,col_indexer] = value instead\n",
      "\n",
      "See the caveats in the documentation: https://pandas.pydata.org/pandas-docs/stable/user_guide/indexing.html#returning-a-view-versus-a-copy\n",
      "  \n"
     ]
    },
    {
     "name": "stdout",
     "output_type": "stream",
     "text": [
      "<class 'pandas.core.frame.DataFrame'>\n",
      "Int64Index: 8797 entries, 0 to 8806\n",
      "Data columns (total 10 columns):\n",
      " #   Column        Non-Null Count  Dtype         \n",
      "---  ------        --------------  -----         \n",
      " 0   show_id       8797 non-null   object        \n",
      " 1   type          8797 non-null   category      \n",
      " 2   title         8797 non-null   object        \n",
      " 3   country       8797 non-null   object        \n",
      " 4   date_added    8797 non-null   datetime64[ns]\n",
      " 5   release_year  8797 non-null   int64         \n",
      " 6   rating        8797 non-null   object        \n",
      " 7   duration      8797 non-null   object        \n",
      " 8   listed_in     8797 non-null   object        \n",
      " 9   description   8797 non-null   object        \n",
      "dtypes: category(1), datetime64[ns](1), int64(1), object(7)\n",
      "memory usage: 696.0+ KB\n"
     ]
    }
   ],
   "source": [
    "df['type']=df['type'].astype('category')\n",
    "df['date_added']= df['date_added'].astype('datetime64')\n",
    "df['type'].dtype\n",
    "df['date_added'].dtype\n",
    "df.info()"
   ]
  },
  {
   "cell_type": "code",
   "execution_count": 17,
   "id": "e8e3382e",
   "metadata": {
    "execution": {
     "iopub.execute_input": "2022-05-30T20:10:55.545345Z",
     "iopub.status.busy": "2022-05-30T20:10:55.544249Z",
     "iopub.status.idle": "2022-05-30T20:10:55.555996Z",
     "shell.execute_reply": "2022-05-30T20:10:55.556544Z",
     "shell.execute_reply.started": "2022-05-30T20:10:22.846493Z"
    },
    "papermill": {
     "duration": 0.07912,
     "end_time": "2022-05-30T20:10:55.556713",
     "exception": false,
     "start_time": "2022-05-30T20:10:55.477593",
     "status": "completed"
    },
    "tags": []
   },
   "outputs": [
    {
     "data": {
      "text/html": [
       "<div>\n",
       "<style scoped>\n",
       "    .dataframe tbody tr th:only-of-type {\n",
       "        vertical-align: middle;\n",
       "    }\n",
       "\n",
       "    .dataframe tbody tr th {\n",
       "        vertical-align: top;\n",
       "    }\n",
       "\n",
       "    .dataframe thead th {\n",
       "        text-align: right;\n",
       "    }\n",
       "</style>\n",
       "<table border=\"1\" class=\"dataframe\">\n",
       "  <thead>\n",
       "    <tr style=\"text-align: right;\">\n",
       "      <th></th>\n",
       "      <th>country</th>\n",
       "      <th>counts</th>\n",
       "    </tr>\n",
       "  </thead>\n",
       "  <tbody>\n",
       "    <tr>\n",
       "      <th>0</th>\n",
       "      <td>United States</td>\n",
       "      <td>3642</td>\n",
       "    </tr>\n",
       "    <tr>\n",
       "      <th>1</th>\n",
       "      <td>India</td>\n",
       "      <td>972</td>\n",
       "    </tr>\n",
       "    <tr>\n",
       "      <th>2</th>\n",
       "      <td>United Kingdom</td>\n",
       "      <td>418</td>\n",
       "    </tr>\n",
       "    <tr>\n",
       "      <th>3</th>\n",
       "      <td>Japan</td>\n",
       "      <td>244</td>\n",
       "    </tr>\n",
       "    <tr>\n",
       "      <th>4</th>\n",
       "      <td>South Korea</td>\n",
       "      <td>199</td>\n",
       "    </tr>\n",
       "    <tr>\n",
       "      <th>...</th>\n",
       "      <td>...</td>\n",
       "      <td>...</td>\n",
       "    </tr>\n",
       "    <tr>\n",
       "      <th>743</th>\n",
       "      <td>Romania, Bulgaria, Hungary</td>\n",
       "      <td>1</td>\n",
       "    </tr>\n",
       "    <tr>\n",
       "      <th>744</th>\n",
       "      <td>Uruguay, Guatemala</td>\n",
       "      <td>1</td>\n",
       "    </tr>\n",
       "    <tr>\n",
       "      <th>745</th>\n",
       "      <td>France, Senegal, Belgium</td>\n",
       "      <td>1</td>\n",
       "    </tr>\n",
       "    <tr>\n",
       "      <th>746</th>\n",
       "      <td>Mexico, United States, Spain, Colombia</td>\n",
       "      <td>1</td>\n",
       "    </tr>\n",
       "    <tr>\n",
       "      <th>747</th>\n",
       "      <td>United Arab Emirates, Jordan</td>\n",
       "      <td>1</td>\n",
       "    </tr>\n",
       "  </tbody>\n",
       "</table>\n",
       "<p>748 rows × 2 columns</p>\n",
       "</div>"
      ],
      "text/plain": [
       "                                    country  counts\n",
       "0                             United States    3642\n",
       "1                                     India     972\n",
       "2                            United Kingdom     418\n",
       "3                                     Japan     244\n",
       "4                               South Korea     199\n",
       "..                                      ...     ...\n",
       "743              Romania, Bulgaria, Hungary       1\n",
       "744                      Uruguay, Guatemala       1\n",
       "745                France, Senegal, Belgium       1\n",
       "746  Mexico, United States, Spain, Colombia       1\n",
       "747            United Arab Emirates, Jordan       1\n",
       "\n",
       "[748 rows x 2 columns]"
      ]
     },
     "execution_count": 17,
     "metadata": {},
     "output_type": "execute_result"
    }
   ],
   "source": [
    "country_counts = df['country'].value_counts(sort=True)\n",
    "country_df = pd.DataFrame(country_counts)\n",
    "country_df = country_df.reset_index()\n",
    "country_df.columns = ['country', 'counts']\n",
    "country_df"
   ]
  },
  {
   "cell_type": "code",
   "execution_count": 18,
   "id": "a2031e0c",
   "metadata": {
    "execution": {
     "iopub.execute_input": "2022-05-30T20:10:55.685280Z",
     "iopub.status.busy": "2022-05-30T20:10:55.682221Z",
     "iopub.status.idle": "2022-05-30T20:10:55.704571Z",
     "shell.execute_reply": "2022-05-30T20:10:55.703984Z",
     "shell.execute_reply.started": "2022-05-30T20:10:22.930426Z"
    },
    "papermill": {
     "duration": 0.086487,
     "end_time": "2022-05-30T20:10:55.704795",
     "exception": false,
     "start_time": "2022-05-30T20:10:55.618308",
     "status": "completed"
    },
    "tags": []
   },
   "outputs": [
    {
     "data": {
      "text/plain": [
       "0"
      ]
     },
     "execution_count": 18,
     "metadata": {},
     "output_type": "execute_result"
    }
   ],
   "source": [
    "#check dup\n",
    "df.duplicated().sum()"
   ]
  },
  {
   "cell_type": "code",
   "execution_count": 19,
   "id": "c3c9746a",
   "metadata": {
    "execution": {
     "iopub.execute_input": "2022-05-30T20:10:55.832194Z",
     "iopub.status.busy": "2022-05-30T20:10:55.831463Z",
     "iopub.status.idle": "2022-05-30T20:10:55.966771Z",
     "shell.execute_reply": "2022-05-30T20:10:55.965968Z",
     "shell.execute_reply.started": "2022-05-30T20:10:23.075705Z"
    },
    "papermill": {
     "duration": 0.199668,
     "end_time": "2022-05-30T20:10:55.966969",
     "exception": false,
     "start_time": "2022-05-30T20:10:55.767301",
     "status": "completed"
    },
    "tags": []
   },
   "outputs": [
    {
     "name": "stderr",
     "output_type": "stream",
     "text": [
      "/opt/conda/lib/python3.7/site-packages/ipykernel_launcher.py:2: SettingWithCopyWarning: \n",
      "A value is trying to be set on a copy of a slice from a DataFrame.\n",
      "Try using .loc[row_indexer,col_indexer] = value instead\n",
      "\n",
      "See the caveats in the documentation: https://pandas.pydata.org/pandas-docs/stable/user_guide/indexing.html#returning-a-view-versus-a-copy\n",
      "  \n",
      "/opt/conda/lib/python3.7/site-packages/ipykernel_launcher.py:3: SettingWithCopyWarning: \n",
      "A value is trying to be set on a copy of a slice from a DataFrame.\n",
      "Try using .loc[row_indexer,col_indexer] = value instead\n",
      "\n",
      "See the caveats in the documentation: https://pandas.pydata.org/pandas-docs/stable/user_guide/indexing.html#returning-a-view-versus-a-copy\n",
      "  This is separate from the ipykernel package so we can avoid doing imports until\n"
     ]
    }
   ],
   "source": [
    "#create month_added and year_added\n",
    "df['month_added'] = df['date_added'].apply(lambda x: x.strftime(\"%B\"))\n",
    "df['year_added'] = df['date_added'].apply(lambda x:x.year).copy()\n"
   ]
  },
  {
   "cell_type": "code",
   "execution_count": 20,
   "id": "cd3a7026",
   "metadata": {
    "execution": {
     "iopub.execute_input": "2022-05-30T20:10:56.095439Z",
     "iopub.status.busy": "2022-05-30T20:10:56.094460Z",
     "iopub.status.idle": "2022-05-30T20:10:56.125251Z",
     "shell.execute_reply": "2022-05-30T20:10:56.124579Z",
     "shell.execute_reply.started": "2022-05-30T20:10:23.420448Z"
    },
    "papermill": {
     "duration": 0.095426,
     "end_time": "2022-05-30T20:10:56.125390",
     "exception": false,
     "start_time": "2022-05-30T20:10:56.029964",
     "status": "completed"
    },
    "tags": []
   },
   "outputs": [
    {
     "name": "stderr",
     "output_type": "stream",
     "text": [
      "/opt/conda/lib/python3.7/site-packages/ipykernel_launcher.py:1: SettingWithCopyWarning: \n",
      "A value is trying to be set on a copy of a slice from a DataFrame.\n",
      "Try using .loc[row_indexer,col_indexer] = value instead\n",
      "\n",
      "See the caveats in the documentation: https://pandas.pydata.org/pandas-docs/stable/user_guide/indexing.html#returning-a-view-versus-a-copy\n",
      "  \"\"\"Entry point for launching an IPython kernel.\n"
     ]
    },
    {
     "data": {
      "text/html": [
       "<div>\n",
       "<style scoped>\n",
       "    .dataframe tbody tr th:only-of-type {\n",
       "        vertical-align: middle;\n",
       "    }\n",
       "\n",
       "    .dataframe tbody tr th {\n",
       "        vertical-align: top;\n",
       "    }\n",
       "\n",
       "    .dataframe thead th {\n",
       "        text-align: right;\n",
       "    }\n",
       "</style>\n",
       "<table border=\"1\" class=\"dataframe\">\n",
       "  <thead>\n",
       "    <tr style=\"text-align: right;\">\n",
       "      <th></th>\n",
       "      <th>show_id</th>\n",
       "      <th>type</th>\n",
       "      <th>title</th>\n",
       "      <th>country</th>\n",
       "      <th>date_added</th>\n",
       "      <th>release_year</th>\n",
       "      <th>rating</th>\n",
       "      <th>duration</th>\n",
       "      <th>listed_in</th>\n",
       "      <th>description</th>\n",
       "      <th>month_added</th>\n",
       "      <th>year_added</th>\n",
       "    </tr>\n",
       "  </thead>\n",
       "  <tbody>\n",
       "    <tr>\n",
       "      <th>0</th>\n",
       "      <td>s1</td>\n",
       "      <td>Movie</td>\n",
       "      <td>Dick Johnson Is Dead</td>\n",
       "      <td>United States</td>\n",
       "      <td>2021-09-25</td>\n",
       "      <td>2020</td>\n",
       "      <td>PG-13</td>\n",
       "      <td>90 min</td>\n",
       "      <td>Documentaries</td>\n",
       "      <td>As her father nears the end of his life, filmm...</td>\n",
       "      <td>September</td>\n",
       "      <td>2021</td>\n",
       "    </tr>\n",
       "    <tr>\n",
       "      <th>1</th>\n",
       "      <td>s2</td>\n",
       "      <td>TV Show</td>\n",
       "      <td>Blood &amp; Water</td>\n",
       "      <td>South Africa</td>\n",
       "      <td>2021-09-24</td>\n",
       "      <td>2021</td>\n",
       "      <td>TV-MA</td>\n",
       "      <td>2 Seasons</td>\n",
       "      <td>International TV Shows, TV Dramas, TV Mysteries</td>\n",
       "      <td>After crossing paths at a party, a Cape Town t...</td>\n",
       "      <td>September</td>\n",
       "      <td>2021</td>\n",
       "    </tr>\n",
       "    <tr>\n",
       "      <th>2</th>\n",
       "      <td>s3</td>\n",
       "      <td>TV Show</td>\n",
       "      <td>Ganglands</td>\n",
       "      <td>United States</td>\n",
       "      <td>2021-09-24</td>\n",
       "      <td>2021</td>\n",
       "      <td>TV-MA</td>\n",
       "      <td>1 Season</td>\n",
       "      <td>Crime TV Shows, International TV Shows, TV Act...</td>\n",
       "      <td>To protect his family from a powerful drug lor...</td>\n",
       "      <td>September</td>\n",
       "      <td>2021</td>\n",
       "    </tr>\n",
       "    <tr>\n",
       "      <th>3</th>\n",
       "      <td>s4</td>\n",
       "      <td>TV Show</td>\n",
       "      <td>Jailbirds New Orleans</td>\n",
       "      <td>United States</td>\n",
       "      <td>2021-09-24</td>\n",
       "      <td>2021</td>\n",
       "      <td>TV-MA</td>\n",
       "      <td>1 Season</td>\n",
       "      <td>Docuseries, Reality TV</td>\n",
       "      <td>Feuds, flirtations and toilet talk go down amo...</td>\n",
       "      <td>September</td>\n",
       "      <td>2021</td>\n",
       "    </tr>\n",
       "    <tr>\n",
       "      <th>4</th>\n",
       "      <td>s5</td>\n",
       "      <td>TV Show</td>\n",
       "      <td>Kota Factory</td>\n",
       "      <td>India</td>\n",
       "      <td>2021-09-24</td>\n",
       "      <td>2021</td>\n",
       "      <td>TV-MA</td>\n",
       "      <td>2 Seasons</td>\n",
       "      <td>International TV Shows, Romantic TV Shows, TV ...</td>\n",
       "      <td>In a city of coaching centers known to train I...</td>\n",
       "      <td>September</td>\n",
       "      <td>2021</td>\n",
       "    </tr>\n",
       "    <tr>\n",
       "      <th>...</th>\n",
       "      <td>...</td>\n",
       "      <td>...</td>\n",
       "      <td>...</td>\n",
       "      <td>...</td>\n",
       "      <td>...</td>\n",
       "      <td>...</td>\n",
       "      <td>...</td>\n",
       "      <td>...</td>\n",
       "      <td>...</td>\n",
       "      <td>...</td>\n",
       "      <td>...</td>\n",
       "      <td>...</td>\n",
       "    </tr>\n",
       "    <tr>\n",
       "      <th>8802</th>\n",
       "      <td>s8803</td>\n",
       "      <td>Movie</td>\n",
       "      <td>Zodiac</td>\n",
       "      <td>United States</td>\n",
       "      <td>2019-11-20</td>\n",
       "      <td>2007</td>\n",
       "      <td>R</td>\n",
       "      <td>158 min</td>\n",
       "      <td>Cult Movies, Dramas, Thrillers</td>\n",
       "      <td>A political cartoonist, a crime reporter and a...</td>\n",
       "      <td>November</td>\n",
       "      <td>2019</td>\n",
       "    </tr>\n",
       "    <tr>\n",
       "      <th>8803</th>\n",
       "      <td>s8804</td>\n",
       "      <td>TV Show</td>\n",
       "      <td>Zombie Dumb</td>\n",
       "      <td>United States</td>\n",
       "      <td>2019-07-01</td>\n",
       "      <td>2018</td>\n",
       "      <td>TV-Y7</td>\n",
       "      <td>2 Seasons</td>\n",
       "      <td>Kids' TV, Korean TV Shows, TV Comedies</td>\n",
       "      <td>While living alone in a spooky town, a young g...</td>\n",
       "      <td>July</td>\n",
       "      <td>2019</td>\n",
       "    </tr>\n",
       "    <tr>\n",
       "      <th>8804</th>\n",
       "      <td>s8805</td>\n",
       "      <td>Movie</td>\n",
       "      <td>Zombieland</td>\n",
       "      <td>United States</td>\n",
       "      <td>2019-11-01</td>\n",
       "      <td>2009</td>\n",
       "      <td>R</td>\n",
       "      <td>88 min</td>\n",
       "      <td>Comedies, Horror Movies</td>\n",
       "      <td>Looking to survive in a world taken over by zo...</td>\n",
       "      <td>November</td>\n",
       "      <td>2019</td>\n",
       "    </tr>\n",
       "    <tr>\n",
       "      <th>8805</th>\n",
       "      <td>s8806</td>\n",
       "      <td>Movie</td>\n",
       "      <td>Zoom</td>\n",
       "      <td>United States</td>\n",
       "      <td>2020-01-11</td>\n",
       "      <td>2006</td>\n",
       "      <td>PG</td>\n",
       "      <td>88 min</td>\n",
       "      <td>Children &amp; Family Movies, Comedies</td>\n",
       "      <td>Dragged from civilian life, a former superhero...</td>\n",
       "      <td>January</td>\n",
       "      <td>2020</td>\n",
       "    </tr>\n",
       "    <tr>\n",
       "      <th>8806</th>\n",
       "      <td>s8807</td>\n",
       "      <td>Movie</td>\n",
       "      <td>Zubaan</td>\n",
       "      <td>India</td>\n",
       "      <td>2019-03-02</td>\n",
       "      <td>2015</td>\n",
       "      <td>TV-14</td>\n",
       "      <td>111 min</td>\n",
       "      <td>Dramas, International Movies, Music &amp; Musicals</td>\n",
       "      <td>A scrappy but poor boy worms his way into a ty...</td>\n",
       "      <td>March</td>\n",
       "      <td>2019</td>\n",
       "    </tr>\n",
       "  </tbody>\n",
       "</table>\n",
       "<p>8797 rows × 12 columns</p>\n",
       "</div>"
      ],
      "text/plain": [
       "     show_id     type                  title        country date_added  \\\n",
       "0         s1    Movie   Dick Johnson Is Dead  United States 2021-09-25   \n",
       "1         s2  TV Show          Blood & Water   South Africa 2021-09-24   \n",
       "2         s3  TV Show              Ganglands  United States 2021-09-24   \n",
       "3         s4  TV Show  Jailbirds New Orleans  United States 2021-09-24   \n",
       "4         s5  TV Show           Kota Factory          India 2021-09-24   \n",
       "...      ...      ...                    ...            ...        ...   \n",
       "8802   s8803    Movie                 Zodiac  United States 2019-11-20   \n",
       "8803   s8804  TV Show            Zombie Dumb  United States 2019-07-01   \n",
       "8804   s8805    Movie             Zombieland  United States 2019-11-01   \n",
       "8805   s8806    Movie                   Zoom  United States 2020-01-11   \n",
       "8806   s8807    Movie                 Zubaan          India 2019-03-02   \n",
       "\n",
       "      release_year rating   duration  \\\n",
       "0             2020  PG-13     90 min   \n",
       "1             2021  TV-MA  2 Seasons   \n",
       "2             2021  TV-MA   1 Season   \n",
       "3             2021  TV-MA   1 Season   \n",
       "4             2021  TV-MA  2 Seasons   \n",
       "...            ...    ...        ...   \n",
       "8802          2007      R    158 min   \n",
       "8803          2018  TV-Y7  2 Seasons   \n",
       "8804          2009      R     88 min   \n",
       "8805          2006     PG     88 min   \n",
       "8806          2015  TV-14    111 min   \n",
       "\n",
       "                                              listed_in  \\\n",
       "0                                         Documentaries   \n",
       "1       International TV Shows, TV Dramas, TV Mysteries   \n",
       "2     Crime TV Shows, International TV Shows, TV Act...   \n",
       "3                                Docuseries, Reality TV   \n",
       "4     International TV Shows, Romantic TV Shows, TV ...   \n",
       "...                                                 ...   \n",
       "8802                     Cult Movies, Dramas, Thrillers   \n",
       "8803             Kids' TV, Korean TV Shows, TV Comedies   \n",
       "8804                            Comedies, Horror Movies   \n",
       "8805                 Children & Family Movies, Comedies   \n",
       "8806     Dramas, International Movies, Music & Musicals   \n",
       "\n",
       "                                            description month_added  \\\n",
       "0     As her father nears the end of his life, filmm...   September   \n",
       "1     After crossing paths at a party, a Cape Town t...   September   \n",
       "2     To protect his family from a powerful drug lor...   September   \n",
       "3     Feuds, flirtations and toilet talk go down amo...   September   \n",
       "4     In a city of coaching centers known to train I...   September   \n",
       "...                                                 ...         ...   \n",
       "8802  A political cartoonist, a crime reporter and a...    November   \n",
       "8803  While living alone in a spooky town, a young g...        July   \n",
       "8804  Looking to survive in a world taken over by zo...    November   \n",
       "8805  Dragged from civilian life, a former superhero...     January   \n",
       "8806  A scrappy but poor boy worms his way into a ty...       March   \n",
       "\n",
       "      year_added  \n",
       "0           2021  \n",
       "1           2021  \n",
       "2           2021  \n",
       "3           2021  \n",
       "4           2021  \n",
       "...          ...  \n",
       "8802        2019  \n",
       "8803        2019  \n",
       "8804        2019  \n",
       "8805        2020  \n",
       "8806        2019  \n",
       "\n",
       "[8797 rows x 12 columns]"
      ]
     },
     "execution_count": 20,
     "metadata": {},
     "output_type": "execute_result"
    }
   ],
   "source": [
    "df['country']= df['country'].apply(lambda x: x.split(',')[0])\n",
    "df\n"
   ]
  },
  {
   "cell_type": "code",
   "execution_count": 21,
   "id": "5fc0d9c0",
   "metadata": {
    "execution": {
     "iopub.execute_input": "2022-05-30T20:10:56.256254Z",
     "iopub.status.busy": "2022-05-30T20:10:56.255240Z",
     "iopub.status.idle": "2022-05-30T20:10:56.260792Z",
     "shell.execute_reply": "2022-05-30T20:10:56.261258Z",
     "shell.execute_reply.started": "2022-05-30T20:10:23.456436Z"
    },
    "papermill": {
     "duration": 0.073442,
     "end_time": "2022-05-30T20:10:56.261448",
     "exception": false,
     "start_time": "2022-05-30T20:10:56.188006",
     "status": "completed"
    },
    "tags": []
   },
   "outputs": [],
   "source": [
    "rating_ages = {\n",
    "    'TV-PG': 'Older Kids',\n",
    "    'TV-MA': 'Adults',\n",
    "    'TV-Y7-FV': 'Older Kids',\n",
    "    'TV-Y7': 'Older Kids',\n",
    "    'TV-14': 'Teens',\n",
    "    'R': 'Adults',\n",
    "    'TV-Y': 'Kids',\n",
    "    'NR': 'Adults',\n",
    "    'PG-13': 'Teens',\n",
    "    'TV-G': 'Kids',\n",
    "    'PG': 'Older Kids',\n",
    "    'G': 'Kids',\n",
    "    'UR': 'Adults',\n",
    "    'NC-17': 'Adults'\n",
    "}"
   ]
  },
  {
   "cell_type": "code",
   "execution_count": 22,
   "id": "e0d436a1",
   "metadata": {
    "execution": {
     "iopub.execute_input": "2022-05-30T20:10:56.403445Z",
     "iopub.status.busy": "2022-05-30T20:10:56.402442Z",
     "iopub.status.idle": "2022-05-30T20:10:56.424045Z",
     "shell.execute_reply": "2022-05-30T20:10:56.424677Z",
     "shell.execute_reply.started": "2022-05-30T20:10:23.463232Z"
    },
    "papermill": {
     "duration": 0.101186,
     "end_time": "2022-05-30T20:10:56.424844",
     "exception": false,
     "start_time": "2022-05-30T20:10:56.323658",
     "status": "completed"
    },
    "tags": []
   },
   "outputs": [
    {
     "name": "stderr",
     "output_type": "stream",
     "text": [
      "/opt/conda/lib/python3.7/site-packages/ipykernel_launcher.py:1: SettingWithCopyWarning: \n",
      "A value is trying to be set on a copy of a slice from a DataFrame.\n",
      "Try using .loc[row_indexer,col_indexer] = value instead\n",
      "\n",
      "See the caveats in the documentation: https://pandas.pydata.org/pandas-docs/stable/user_guide/indexing.html#returning-a-view-versus-a-copy\n",
      "  \"\"\"Entry point for launching an IPython kernel.\n",
      "/opt/conda/lib/python3.7/site-packages/ipykernel_launcher.py:2: SettingWithCopyWarning: \n",
      "A value is trying to be set on a copy of a slice from a DataFrame.\n",
      "Try using .loc[row_indexer,col_indexer] = value instead\n",
      "\n",
      "See the caveats in the documentation: https://pandas.pydata.org/pandas-docs/stable/user_guide/indexing.html#returning-a-view-versus-a-copy\n",
      "  \n"
     ]
    },
    {
     "data": {
      "text/html": [
       "<div>\n",
       "<style scoped>\n",
       "    .dataframe tbody tr th:only-of-type {\n",
       "        vertical-align: middle;\n",
       "    }\n",
       "\n",
       "    .dataframe tbody tr th {\n",
       "        vertical-align: top;\n",
       "    }\n",
       "\n",
       "    .dataframe thead th {\n",
       "        text-align: right;\n",
       "    }\n",
       "</style>\n",
       "<table border=\"1\" class=\"dataframe\">\n",
       "  <thead>\n",
       "    <tr style=\"text-align: right;\">\n",
       "      <th></th>\n",
       "      <th>show_id</th>\n",
       "      <th>type</th>\n",
       "      <th>title</th>\n",
       "      <th>country</th>\n",
       "      <th>date_added</th>\n",
       "      <th>release_year</th>\n",
       "      <th>rating</th>\n",
       "      <th>duration</th>\n",
       "      <th>listed_in</th>\n",
       "      <th>description</th>\n",
       "      <th>month_added</th>\n",
       "      <th>year_added</th>\n",
       "      <th>rating_ages</th>\n",
       "    </tr>\n",
       "  </thead>\n",
       "  <tbody>\n",
       "    <tr>\n",
       "      <th>8534</th>\n",
       "      <td>s8535</td>\n",
       "      <td>Movie</td>\n",
       "      <td>The Tribes of Palos Verdes</td>\n",
       "      <td>United States</td>\n",
       "      <td>2019-12-01</td>\n",
       "      <td>2017</td>\n",
       "      <td>R</td>\n",
       "      <td>104 min</td>\n",
       "      <td>Dramas, Independent Movies, Sports Movies</td>\n",
       "      <td>When a move to an exclusive seaside community ...</td>\n",
       "      <td>December</td>\n",
       "      <td>2019</td>\n",
       "      <td>Adults</td>\n",
       "    </tr>\n",
       "    <tr>\n",
       "      <th>2191</th>\n",
       "      <td>s2192</td>\n",
       "      <td>Movie</td>\n",
       "      <td>Retablo</td>\n",
       "      <td>Peru</td>\n",
       "      <td>2020-07-30</td>\n",
       "      <td>2017</td>\n",
       "      <td>TV-MA</td>\n",
       "      <td>102 min</td>\n",
       "      <td>Dramas, International Movies</td>\n",
       "      <td>High in the Andes, a teenage boy and his fathe...</td>\n",
       "      <td>July</td>\n",
       "      <td>2020</td>\n",
       "      <td>Adults</td>\n",
       "    </tr>\n",
       "  </tbody>\n",
       "</table>\n",
       "</div>"
      ],
      "text/plain": [
       "     show_id   type                       title        country date_added  \\\n",
       "8534   s8535  Movie  The Tribes of Palos Verdes  United States 2019-12-01   \n",
       "2191   s2192  Movie                     Retablo           Peru 2020-07-30   \n",
       "\n",
       "      release_year rating duration                                  listed_in  \\\n",
       "8534          2017      R  104 min  Dramas, Independent Movies, Sports Movies   \n",
       "2191          2017  TV-MA  102 min               Dramas, International Movies   \n",
       "\n",
       "                                            description month_added  \\\n",
       "8534  When a move to an exclusive seaside community ...    December   \n",
       "2191  High in the Andes, a teenage boy and his fathe...        July   \n",
       "\n",
       "      year_added rating_ages  \n",
       "8534        2019      Adults  \n",
       "2191        2020      Adults  "
      ]
     },
     "execution_count": 22,
     "metadata": {},
     "output_type": "execute_result"
    }
   ],
   "source": [
    "df['rating_ages']= df['rating'].replace(rating_ages).copy()\n",
    "df['rating_ages']= df['rating_ages'].astype('category')\n",
    "df['rating_ages'].dtype\n",
    "df.sample(2)\n"
   ]
  },
  {
   "cell_type": "markdown",
   "id": "958c1812",
   "metadata": {
    "papermill": {
     "duration": 0.062714,
     "end_time": "2022-05-30T20:10:56.550812",
     "exception": false,
     "start_time": "2022-05-30T20:10:56.488098",
     "status": "completed"
    },
    "tags": []
   },
   "source": [
    "# DATA VISUALIZATON"
   ]
  },
  {
   "cell_type": "code",
   "execution_count": 23,
   "id": "792d35f4",
   "metadata": {
    "execution": {
     "iopub.execute_input": "2022-05-30T20:10:56.688517Z",
     "iopub.status.busy": "2022-05-30T20:10:56.683540Z",
     "iopub.status.idle": "2022-05-30T20:10:56.698700Z",
     "shell.execute_reply": "2022-05-30T20:10:56.699232Z",
     "shell.execute_reply.started": "2022-05-30T20:10:23.569217Z"
    },
    "papermill": {
     "duration": 0.084494,
     "end_time": "2022-05-30T20:10:56.699439",
     "exception": false,
     "start_time": "2022-05-30T20:10:56.614945",
     "status": "completed"
    },
    "tags": []
   },
   "outputs": [
    {
     "name": "stdout",
     "output_type": "stream",
     "text": [
      "There are 8797 observations and 13 features in this dataset. \n",
      "\n",
      "There are 2 types in this dataset such as Movie, TV Show... \n",
      "\n",
      "There are 86 countries producing in this dataset such as United States, South Africa, India, United Kingdom, Germany... \n",
      "\n"
     ]
    }
   ],
   "source": [
    "print(\"There are {} observations and {} features in this dataset. \\n\".format(df.shape[0],df.shape[1]))\n",
    "\n",
    "print(\"There are {} types in this dataset such as {}... \\n\".format(len(df.type.unique()),\n",
    "                                                                           \", \".join(df.type.unique()[0:2])))\n",
    "\n",
    "print(\"There are {} countries producing in this dataset such as {}... \\n\".format(len(df.country.unique()),\n",
    "                                                                                      \", \".join(df.country.unique()[0:5])))"
   ]
  },
  {
   "cell_type": "code",
   "execution_count": 24,
   "id": "7694d192",
   "metadata": {
    "execution": {
     "iopub.execute_input": "2022-05-30T20:10:56.832749Z",
     "iopub.status.busy": "2022-05-30T20:10:56.832045Z",
     "iopub.status.idle": "2022-05-30T20:10:56.851483Z",
     "shell.execute_reply": "2022-05-30T20:10:56.850776Z",
     "shell.execute_reply.started": "2022-05-30T20:10:23.665377Z"
    },
    "papermill": {
     "duration": 0.086888,
     "end_time": "2022-05-30T20:10:56.851647",
     "exception": false,
     "start_time": "2022-05-30T20:10:56.764759",
     "status": "completed"
    },
    "tags": []
   },
   "outputs": [
    {
     "data": {
      "text/html": [
       "<div>\n",
       "<style scoped>\n",
       "    .dataframe tbody tr th:only-of-type {\n",
       "        vertical-align: middle;\n",
       "    }\n",
       "\n",
       "    .dataframe tbody tr th {\n",
       "        vertical-align: top;\n",
       "    }\n",
       "\n",
       "    .dataframe thead th {\n",
       "        text-align: right;\n",
       "    }\n",
       "</style>\n",
       "<table border=\"1\" class=\"dataframe\">\n",
       "  <thead>\n",
       "    <tr style=\"text-align: right;\">\n",
       "      <th></th>\n",
       "      <th>show_id</th>\n",
       "      <th>type</th>\n",
       "      <th>title</th>\n",
       "      <th>country</th>\n",
       "      <th>date_added</th>\n",
       "      <th>release_year</th>\n",
       "      <th>rating</th>\n",
       "      <th>duration</th>\n",
       "      <th>listed_in</th>\n",
       "      <th>description</th>\n",
       "      <th>month_added</th>\n",
       "      <th>year_added</th>\n",
       "      <th>rating_ages</th>\n",
       "    </tr>\n",
       "  </thead>\n",
       "  <tbody>\n",
       "    <tr>\n",
       "      <th>0</th>\n",
       "      <td>s1</td>\n",
       "      <td>Movie</td>\n",
       "      <td>Dick Johnson Is Dead</td>\n",
       "      <td>United States</td>\n",
       "      <td>2021-09-25</td>\n",
       "      <td>2020</td>\n",
       "      <td>PG-13</td>\n",
       "      <td>90 min</td>\n",
       "      <td>Documentaries</td>\n",
       "      <td>As her father nears the end of his life, filmm...</td>\n",
       "      <td>September</td>\n",
       "      <td>2021</td>\n",
       "      <td>Teens</td>\n",
       "    </tr>\n",
       "    <tr>\n",
       "      <th>1</th>\n",
       "      <td>s2</td>\n",
       "      <td>TV Show</td>\n",
       "      <td>Blood &amp; Water</td>\n",
       "      <td>South Africa</td>\n",
       "      <td>2021-09-24</td>\n",
       "      <td>2021</td>\n",
       "      <td>TV-MA</td>\n",
       "      <td>2 Seasons</td>\n",
       "      <td>International TV Shows, TV Dramas, TV Mysteries</td>\n",
       "      <td>After crossing paths at a party, a Cape Town t...</td>\n",
       "      <td>September</td>\n",
       "      <td>2021</td>\n",
       "      <td>Adults</td>\n",
       "    </tr>\n",
       "    <tr>\n",
       "      <th>2</th>\n",
       "      <td>s3</td>\n",
       "      <td>TV Show</td>\n",
       "      <td>Ganglands</td>\n",
       "      <td>United States</td>\n",
       "      <td>2021-09-24</td>\n",
       "      <td>2021</td>\n",
       "      <td>TV-MA</td>\n",
       "      <td>1 Season</td>\n",
       "      <td>Crime TV Shows, International TV Shows, TV Act...</td>\n",
       "      <td>To protect his family from a powerful drug lor...</td>\n",
       "      <td>September</td>\n",
       "      <td>2021</td>\n",
       "      <td>Adults</td>\n",
       "    </tr>\n",
       "    <tr>\n",
       "      <th>3</th>\n",
       "      <td>s4</td>\n",
       "      <td>TV Show</td>\n",
       "      <td>Jailbirds New Orleans</td>\n",
       "      <td>United States</td>\n",
       "      <td>2021-09-24</td>\n",
       "      <td>2021</td>\n",
       "      <td>TV-MA</td>\n",
       "      <td>1 Season</td>\n",
       "      <td>Docuseries, Reality TV</td>\n",
       "      <td>Feuds, flirtations and toilet talk go down amo...</td>\n",
       "      <td>September</td>\n",
       "      <td>2021</td>\n",
       "      <td>Adults</td>\n",
       "    </tr>\n",
       "    <tr>\n",
       "      <th>4</th>\n",
       "      <td>s5</td>\n",
       "      <td>TV Show</td>\n",
       "      <td>Kota Factory</td>\n",
       "      <td>India</td>\n",
       "      <td>2021-09-24</td>\n",
       "      <td>2021</td>\n",
       "      <td>TV-MA</td>\n",
       "      <td>2 Seasons</td>\n",
       "      <td>International TV Shows, Romantic TV Shows, TV ...</td>\n",
       "      <td>In a city of coaching centers known to train I...</td>\n",
       "      <td>September</td>\n",
       "      <td>2021</td>\n",
       "      <td>Adults</td>\n",
       "    </tr>\n",
       "  </tbody>\n",
       "</table>\n",
       "</div>"
      ],
      "text/plain": [
       "  show_id     type                  title        country date_added  \\\n",
       "0      s1    Movie   Dick Johnson Is Dead  United States 2021-09-25   \n",
       "1      s2  TV Show          Blood & Water   South Africa 2021-09-24   \n",
       "2      s3  TV Show              Ganglands  United States 2021-09-24   \n",
       "3      s4  TV Show  Jailbirds New Orleans  United States 2021-09-24   \n",
       "4      s5  TV Show           Kota Factory          India 2021-09-24   \n",
       "\n",
       "   release_year rating   duration  \\\n",
       "0          2020  PG-13     90 min   \n",
       "1          2021  TV-MA  2 Seasons   \n",
       "2          2021  TV-MA   1 Season   \n",
       "3          2021  TV-MA   1 Season   \n",
       "4          2021  TV-MA  2 Seasons   \n",
       "\n",
       "                                           listed_in  \\\n",
       "0                                      Documentaries   \n",
       "1    International TV Shows, TV Dramas, TV Mysteries   \n",
       "2  Crime TV Shows, International TV Shows, TV Act...   \n",
       "3                             Docuseries, Reality TV   \n",
       "4  International TV Shows, Romantic TV Shows, TV ...   \n",
       "\n",
       "                                         description month_added  year_added  \\\n",
       "0  As her father nears the end of his life, filmm...   September        2021   \n",
       "1  After crossing paths at a party, a Cape Town t...   September        2021   \n",
       "2  To protect his family from a powerful drug lor...   September        2021   \n",
       "3  Feuds, flirtations and toilet talk go down amo...   September        2021   \n",
       "4  In a city of coaching centers known to train I...   September        2021   \n",
       "\n",
       "  rating_ages  \n",
       "0       Teens  \n",
       "1      Adults  \n",
       "2      Adults  \n",
       "3      Adults  \n",
       "4      Adults  "
      ]
     },
     "execution_count": 24,
     "metadata": {},
     "output_type": "execute_result"
    }
   ],
   "source": [
    "df.head()"
   ]
  },
  {
   "cell_type": "code",
   "execution_count": 25,
   "id": "9bc4af7b",
   "metadata": {
    "execution": {
     "iopub.execute_input": "2022-05-30T20:10:56.994896Z",
     "iopub.status.busy": "2022-05-30T20:10:56.994176Z",
     "iopub.status.idle": "2022-05-30T20:10:56.996824Z",
     "shell.execute_reply": "2022-05-30T20:10:56.997350Z",
     "shell.execute_reply.started": "2022-05-30T20:10:23.753583Z"
    },
    "papermill": {
     "duration": 0.076645,
     "end_time": "2022-05-30T20:10:56.997537",
     "exception": false,
     "start_time": "2022-05-30T20:10:56.920892",
     "status": "completed"
    },
    "tags": []
   },
   "outputs": [
    {
     "data": {
      "text/plain": [
       "Movie      6131\n",
       "TV Show    2666\n",
       "Name: type, dtype: int64"
      ]
     },
     "execution_count": 25,
     "metadata": {},
     "output_type": "execute_result"
    }
   ],
   "source": [
    "df['type'].value_counts()"
   ]
  },
  {
   "cell_type": "markdown",
   "id": "47ebe204",
   "metadata": {
    "papermill": {
     "duration": 0.064357,
     "end_time": "2022-05-30T20:10:57.127920",
     "exception": false,
     "start_time": "2022-05-30T20:10:57.063563",
     "status": "completed"
    },
    "tags": []
   },
   "source": [
    "Trong 8797 bộ phim có 6131 là Movie còn lại 2666 thuộc thể loại TVshow."
   ]
  },
  {
   "cell_type": "code",
   "execution_count": 26,
   "id": "56154048",
   "metadata": {
    "execution": {
     "iopub.execute_input": "2022-05-30T20:10:57.265899Z",
     "iopub.status.busy": "2022-05-30T20:10:57.265217Z",
     "iopub.status.idle": "2022-05-30T20:10:57.439270Z",
     "shell.execute_reply": "2022-05-30T20:10:57.438256Z",
     "shell.execute_reply.started": "2022-05-30T20:10:23.860677Z"
    },
    "papermill": {
     "duration": 0.245388,
     "end_time": "2022-05-30T20:10:57.439570",
     "exception": false,
     "start_time": "2022-05-30T20:10:57.194182",
     "status": "completed"
    },
    "tags": []
   },
   "outputs": [
    {
     "data": {
      "image/png": "[encoded data removed]",
      "text/plain": [
       "<Figure size 432x288 with 1 Axes>"
      ]
     },
     "metadata": {},
     "output_type": "display_data"
    }
   ],
   "source": [
    "plt.title('Distribution of Type by percentage')\n",
    "color = sns.color_palette('pastel')\n",
    "df['type'].value_counts().plot(kind='pie',autopct='%.0f%%', colors=color)\n",
    "plt.show()"
   ]
  },
  {
   "cell_type": "markdown",
   "id": "eb6af7f0",
   "metadata": {
    "papermill": {
     "duration": 0.069546,
     "end_time": "2022-05-30T20:10:57.606466",
     "exception": false,
     "start_time": "2022-05-30T20:10:57.536920",
     "status": "completed"
    },
    "tags": []
   },
   "source": [
    " Movie chiếm đến 70%, còn lại TV show chiếm 30% số lượng phim có trên Netflix"
   ]
  },
  {
   "cell_type": "code",
   "execution_count": 27,
   "id": "731bdcfe",
   "metadata": {
    "execution": {
     "iopub.execute_input": "2022-05-30T20:10:57.751561Z",
     "iopub.status.busy": "2022-05-30T20:10:57.750817Z",
     "iopub.status.idle": "2022-05-30T20:10:57.766951Z",
     "shell.execute_reply": "2022-05-30T20:10:57.767503Z",
     "shell.execute_reply.started": "2022-05-30T20:10:23.995865Z"
    },
    "papermill": {
     "duration": 0.088728,
     "end_time": "2022-05-30T20:10:57.767707",
     "exception": false,
     "start_time": "2022-05-30T20:10:57.678979",
     "status": "completed"
    },
    "tags": []
   },
   "outputs": [
    {
     "data": {
      "text/html": [
       "<div>\n",
       "<style scoped>\n",
       "    .dataframe tbody tr th:only-of-type {\n",
       "        vertical-align: middle;\n",
       "    }\n",
       "\n",
       "    .dataframe tbody tr th {\n",
       "        vertical-align: top;\n",
       "    }\n",
       "\n",
       "    .dataframe thead th {\n",
       "        text-align: right;\n",
       "    }\n",
       "</style>\n",
       "<table border=\"1\" class=\"dataframe\">\n",
       "  <thead>\n",
       "    <tr style=\"text-align: right;\">\n",
       "      <th></th>\n",
       "      <th>country</th>\n",
       "      <th>show_id</th>\n",
       "    </tr>\n",
       "  </thead>\n",
       "  <tbody>\n",
       "    <tr>\n",
       "      <th>80</th>\n",
       "      <td>United States</td>\n",
       "      <td>4035</td>\n",
       "    </tr>\n",
       "    <tr>\n",
       "      <th>30</th>\n",
       "      <td>India</td>\n",
       "      <td>1008</td>\n",
       "    </tr>\n",
       "    <tr>\n",
       "      <th>79</th>\n",
       "      <td>United Kingdom</td>\n",
       "      <td>627</td>\n",
       "    </tr>\n",
       "    <tr>\n",
       "      <th>11</th>\n",
       "      <td>Canada</td>\n",
       "      <td>271</td>\n",
       "    </tr>\n",
       "    <tr>\n",
       "      <th>37</th>\n",
       "      <td>Japan</td>\n",
       "      <td>258</td>\n",
       "    </tr>\n",
       "    <tr>\n",
       "      <th>...</th>\n",
       "      <td>...</td>\n",
       "      <td>...</td>\n",
       "    </tr>\n",
       "    <tr>\n",
       "      <th>47</th>\n",
       "      <td>Namibia</td>\n",
       "      <td>1</td>\n",
       "    </tr>\n",
       "    <tr>\n",
       "      <th>66</th>\n",
       "      <td>Somalia</td>\n",
       "      <td>1</td>\n",
       "    </tr>\n",
       "    <tr>\n",
       "      <th>65</th>\n",
       "      <td>Slovenia</td>\n",
       "      <td>1</td>\n",
       "    </tr>\n",
       "    <tr>\n",
       "      <th>53</th>\n",
       "      <td>Paraguay</td>\n",
       "      <td>1</td>\n",
       "    </tr>\n",
       "    <tr>\n",
       "      <th>85</th>\n",
       "      <td>Zimbabwe</td>\n",
       "      <td>1</td>\n",
       "    </tr>\n",
       "  </tbody>\n",
       "</table>\n",
       "<p>86 rows × 2 columns</p>\n",
       "</div>"
      ],
      "text/plain": [
       "           country  show_id\n",
       "80   United States     4035\n",
       "30           India     1008\n",
       "79  United Kingdom      627\n",
       "11          Canada      271\n",
       "37           Japan      258\n",
       "..             ...      ...\n",
       "47         Namibia        1\n",
       "66         Somalia        1\n",
       "65        Slovenia        1\n",
       "53        Paraguay        1\n",
       "85        Zimbabwe        1\n",
       "\n",
       "[86 rows x 2 columns]"
      ]
     },
     "execution_count": 27,
     "metadata": {},
     "output_type": "execute_result"
    }
   ],
   "source": [
    "count = df.groupby('country')['show_id'].count().reset_index()\n",
    "count.sort_values(['show_id'],ascending=[False])\n"
   ]
  },
  {
   "cell_type": "code",
   "execution_count": 28,
   "id": "66a2b5a7",
   "metadata": {
    "execution": {
     "iopub.execute_input": "2022-05-30T20:10:57.911806Z",
     "iopub.status.busy": "2022-05-30T20:10:57.911080Z",
     "iopub.status.idle": "2022-05-30T20:10:58.159860Z",
     "shell.execute_reply": "2022-05-30T20:10:58.159169Z",
     "shell.execute_reply.started": "2022-05-30T20:10:24.082621Z"
    },
    "papermill": {
     "duration": 0.324733,
     "end_time": "2022-05-30T20:10:58.160010",
     "exception": false,
     "start_time": "2022-05-30T20:10:57.835277",
     "status": "completed"
    },
    "tags": []
   },
   "outputs": [
    {
     "name": "stdout",
     "output_type": "stream",
     "text": [
      "United States     4035\n",
      "India             1008\n",
      "United Kingdom     627\n",
      "Canada             271\n",
      "Japan              258\n",
      "France             212\n",
      "South Korea        211\n",
      "Spain              181\n",
      "Mexico             134\n",
      "Australia          116\n",
      "Name: country, dtype: int64\n"
     ]
    },
    {
     "data": {
      "image/png": "[encoded data removed]",
      "text/plain": [
       "<Figure size 864x720 with 1 Axes>"
      ]
     },
     "metadata": {
      "needs_background": "light"
     },
     "output_type": "display_data"
    }
   ],
   "source": [
    "print(df.country.value_counts()[:10])\n",
    "plt.figure(figsize=(12,10))\n",
    "df.country.value_counts()[:10].plot.bar(color = 'orange')\n",
    "plt.title('Top 10 Movie Production Countries')\n",
    "plt.show() "
   ]
  },
  {
   "cell_type": "markdown",
   "id": "c9ab5a1d",
   "metadata": {
    "papermill": {
     "duration": 0.068713,
     "end_time": "2022-05-30T20:10:58.296970",
     "exception": false,
     "start_time": "2022-05-30T20:10:58.228257",
     "status": "completed"
    },
    "tags": []
   },
   "source": [
    "Top 10 quốc gia sản xuất nhiều phim nhất trên nền tảng Netflix. Trong đó USA chiếm phần lớn lượng phim (4035) đã sản xuất theo sau đó là Ấn Độ."
   ]
  },
  {
   "cell_type": "code",
   "execution_count": 29,
   "id": "76f3200c",
   "metadata": {
    "execution": {
     "iopub.execute_input": "2022-05-30T20:10:58.438383Z",
     "iopub.status.busy": "2022-05-30T20:10:58.437729Z",
     "iopub.status.idle": "2022-05-30T20:10:58.443472Z",
     "shell.execute_reply": "2022-05-30T20:10:58.444056Z",
     "shell.execute_reply.started": "2022-05-30T20:10:24.340330Z"
    },
    "papermill": {
     "duration": 0.079123,
     "end_time": "2022-05-30T20:10:58.444230",
     "exception": false,
     "start_time": "2022-05-30T20:10:58.365107",
     "status": "completed"
    },
    "tags": []
   },
   "outputs": [
    {
     "data": {
      "text/plain": [
       "Adults        4096\n",
       "Teens         2647\n",
       "Older Kids    1487\n",
       "Kids           567\n",
       "Name: rating_ages, dtype: int64"
      ]
     },
     "execution_count": 29,
     "metadata": {},
     "output_type": "execute_result"
    }
   ],
   "source": [
    "df['rating_ages'].value_counts()"
   ]
  },
  {
   "cell_type": "code",
   "execution_count": 30,
   "id": "44314976",
   "metadata": {
    "execution": {
     "iopub.execute_input": "2022-05-30T20:10:58.590466Z",
     "iopub.status.busy": "2022-05-30T20:10:58.589818Z",
     "iopub.status.idle": "2022-05-30T20:10:58.598115Z",
     "shell.execute_reply": "2022-05-30T20:10:58.598692Z",
     "shell.execute_reply.started": "2022-05-30T20:10:24.353742Z"
    },
    "papermill": {
     "duration": 0.085891,
     "end_time": "2022-05-30T20:10:58.598873",
     "exception": false,
     "start_time": "2022-05-30T20:10:58.512982",
     "status": "completed"
    },
    "tags": []
   },
   "outputs": [],
   "source": [
    "\n",
    "rating_counts= df['rating_ages'].value_counts()\n",
    "rating_df = pd.DataFrame(rating_counts)\n",
    "rating_df = rating_df.reset_index()\n",
    "rating_df.columns =['rating_ages','counts']\n",
    "\n"
   ]
  },
  {
   "cell_type": "code",
   "execution_count": 31,
   "id": "37e5a662",
   "metadata": {
    "execution": {
     "iopub.execute_input": "2022-05-30T20:10:58.771090Z",
     "iopub.status.busy": "2022-05-30T20:10:58.770035Z",
     "iopub.status.idle": "2022-05-30T20:10:58.905928Z",
     "shell.execute_reply": "2022-05-30T20:10:58.906863Z",
     "shell.execute_reply.started": "2022-05-30T20:10:24.375794Z"
    },
    "papermill": {
     "duration": 0.225159,
     "end_time": "2022-05-30T20:10:58.907163",
     "exception": false,
     "start_time": "2022-05-30T20:10:58.682004",
     "status": "completed"
    },
    "tags": []
   },
   "outputs": [
    {
     "data": {
      "text/plain": [
       "([<matplotlib.patches.Wedge at 0x7f627dbd3e50>,\n",
       "  <matplotlib.patches.Wedge at 0x7f627dbe4750>,\n",
       "  <matplotlib.patches.Wedge at 0x7f627dbe4f90>,\n",
       "  <matplotlib.patches.Wedge at 0x7f627dbe4c90>],\n",
       " [Text(0.11860098928333727, 1.0935875846684682, 'Adults'),\n",
       "  Text(-0.8202484285544189, -0.7329341822114769, 'Teens'),\n",
       "  Text(0.6523026232942527, -0.8857207729546804, 'Older Kids'),\n",
       "  Text(1.0775262917733135, -0.22121729258186867, 'Kids')],\n",
       " [Text(0.06469144870000214, 0.5965023189100734, '47%'),\n",
       "  Text(-0.4474082337569557, -0.3997822812062601, '30%'),\n",
       "  Text(0.35580143088777416, -0.4831204216116438, '17%'),\n",
       "  Text(0.5877416136945346, -0.12066397777192836, '6%')])"
      ]
     },
     "execution_count": 31,
     "metadata": {},
     "output_type": "execute_result"
    },
    {
     "data": {
      "image/png": "[encoded data removed]",
      "text/plain": [
       "<Figure size 432x288 with 1 Axes>"
      ]
     },
     "metadata": {},
     "output_type": "display_data"
    }
   ],
   "source": [
    "color = sns.color_palette('pastel')\n",
    "plt.title('Distribution of rating by ages')\n",
    "plt.pie(rating_df['counts'],labels = rating_df['rating_ages'],colors =color,autopct='%.0f%%')"
   ]
  },
  {
   "cell_type": "markdown",
   "id": "e4b5ea19",
   "metadata": {
    "papermill": {
     "duration": 0.070195,
     "end_time": "2022-05-30T20:10:59.091810",
     "exception": false,
     "start_time": "2022-05-30T20:10:59.021615",
     "status": "completed"
    },
    "tags": []
   },
   "source": [
    "Độ tuổi cho phép người dùng của các movie/show có mặt trên Netflix\n",
    "\n",
    "Trong đó: người lớn chiếm đến 47% và Thanh thiếu niên chiếm 30%. Đây đang là hai đối tượng khách hàng đang được Netflix hướng đến phát triển\n"
   ]
  },
  {
   "cell_type": "code",
   "execution_count": 32,
   "id": "b03711e2",
   "metadata": {
    "execution": {
     "iopub.execute_input": "2022-05-30T20:10:59.240235Z",
     "iopub.status.busy": "2022-05-30T20:10:59.239271Z",
     "iopub.status.idle": "2022-05-30T20:10:59.490298Z",
     "shell.execute_reply": "2022-05-30T20:10:59.490771Z",
     "shell.execute_reply.started": "2022-05-30T20:10:24.517090Z"
    },
    "papermill": {
     "duration": 0.327451,
     "end_time": "2022-05-30T20:10:59.490957",
     "exception": false,
     "start_time": "2022-05-30T20:10:59.163506",
     "status": "completed"
    },
    "tags": []
   },
   "outputs": [
    {
     "data": {
      "text/plain": [
       "<AxesSubplot:xlabel='rating_ages', ylabel='count'>"
      ]
     },
     "execution_count": 32,
     "metadata": {},
     "output_type": "execute_result"
    },
    {
     "data": {
      "image/png": "[encoded data removed]",
      "text/plain": [
       "<Figure size 432x288 with 1 Axes>"
      ]
     },
     "metadata": {
      "needs_background": "light"
     },
     "output_type": "display_data"
    }
   ],
   "source": [
    "sns.countplot(x=df['rating_ages'],data=df,hue='type', palette ='Set3')"
   ]
  },
  {
   "cell_type": "code",
   "execution_count": 33,
   "id": "3ab06b46",
   "metadata": {
    "execution": {
     "iopub.execute_input": "2022-05-30T20:10:59.642862Z",
     "iopub.status.busy": "2022-05-30T20:10:59.642133Z",
     "iopub.status.idle": "2022-05-30T20:11:01.366247Z",
     "shell.execute_reply": "2022-05-30T20:11:01.366729Z",
     "shell.execute_reply.started": "2022-05-30T20:10:24.785180Z"
    },
    "papermill": {
     "duration": 1.80153,
     "end_time": "2022-05-30T20:11:01.366914",
     "exception": false,
     "start_time": "2022-05-30T20:10:59.565384",
     "status": "completed"
    },
    "tags": []
   },
   "outputs": [
    {
     "data": {
      "image/png": "[encoded data removed]",
      "text/plain": [
       "<Figure size 1080x720 with 1 Axes>"
      ]
     },
     "metadata": {
      "needs_background": "light"
     },
     "output_type": "display_data"
    }
   ],
   "source": [
    "plt.figure(figsize=(15,10))\n",
    "\n",
    "g = sns.countplot(x=df['release_year'],data=df, hue='type', palette=\"Set3\")\n",
    "g.figure.autofmt_xdate()"
   ]
  },
  {
   "cell_type": "markdown",
   "id": "1eb8c353",
   "metadata": {
    "papermill": {
     "duration": 0.072271,
     "end_time": "2022-05-30T20:11:01.511233",
     "exception": false,
     "start_time": "2022-05-30T20:11:01.438962",
     "status": "completed"
    },
    "tags": []
   },
   "source": [
    "Những năm gần đây Netflix có xu hướng phát hành TVshow tăng và số lượng movie bắt đầu giảm, ở giai đoạn 2019-2021 lượng phim giảm một phần do ảnh hưởng của covid19.\n",
    "\n",
    "2018 là năm có nhiều phim được phát hành nhất."
   ]
  },
  {
   "cell_type": "code",
   "execution_count": 34,
   "id": "f391f33f",
   "metadata": {
    "execution": {
     "iopub.execute_input": "2022-05-30T20:11:01.681558Z",
     "iopub.status.busy": "2022-05-30T20:11:01.680423Z",
     "iopub.status.idle": "2022-05-30T20:11:01.905255Z",
     "shell.execute_reply": "2022-05-30T20:11:01.905774Z",
     "shell.execute_reply.started": "2022-05-30T20:10:26.334202Z"
    },
    "papermill": {
     "duration": 0.321268,
     "end_time": "2022-05-30T20:11:01.905945",
     "exception": false,
     "start_time": "2022-05-30T20:11:01.584677",
     "status": "completed"
    },
    "tags": []
   },
   "outputs": [
    {
     "data": {
      "image/png": "[encoded data removed]",
      "text/plain": [
       "<Figure size 432x288 with 1 Axes>"
      ]
     },
     "metadata": {
      "needs_background": "light"
     },
     "output_type": "display_data"
    }
   ],
   "source": [
    "plt.title('')\n",
    "plt.xlabel('Year')\n",
    "plt.ylabel('')\n",
    "plt.hist(x=df['year_added'],bins=20,color = 'orange')\n",
    "plt.grid(True)\n",
    "plt.show()"
   ]
  },
  {
   "cell_type": "markdown",
   "id": "e1fdaab5",
   "metadata": {
    "papermill": {
     "duration": 0.074034,
     "end_time": "2022-05-30T20:11:02.053733",
     "exception": false,
     "start_time": "2022-05-30T20:11:01.979699",
     "status": "completed"
    },
    "tags": []
   },
   "source": [
    "2008 Netflix thành lập, các bộ phim bắt đầu được thêm vào nền tảng\n",
    "Từ 2015 lượng phim được thêm vào bắt đầu tăng nhanh. Các phim được thêm vào Netflix khá đồng đều từ nằm 2017-2021."
   ]
  },
  {
   "cell_type": "code",
   "execution_count": 35,
   "id": "c5b8b949",
   "metadata": {
    "execution": {
     "iopub.execute_input": "2022-05-30T20:11:02.207836Z",
     "iopub.status.busy": "2022-05-30T20:11:02.206774Z",
     "iopub.status.idle": "2022-05-30T20:11:02.233395Z",
     "shell.execute_reply": "2022-05-30T20:11:02.233887Z",
     "shell.execute_reply.started": "2022-05-30T20:10:26.570398Z"
    },
    "papermill": {
     "duration": 0.106279,
     "end_time": "2022-05-30T20:11:02.234067",
     "exception": false,
     "start_time": "2022-05-30T20:11:02.127788",
     "status": "completed"
    },
    "tags": []
   },
   "outputs": [
    {
     "data": {
      "text/html": [
       "<div>\n",
       "<style scoped>\n",
       "    .dataframe tbody tr th:only-of-type {\n",
       "        vertical-align: middle;\n",
       "    }\n",
       "\n",
       "    .dataframe tbody tr th {\n",
       "        vertical-align: top;\n",
       "    }\n",
       "\n",
       "    .dataframe thead th {\n",
       "        text-align: right;\n",
       "    }\n",
       "</style>\n",
       "<table border=\"1\" class=\"dataframe\">\n",
       "  <thead>\n",
       "    <tr style=\"text-align: right;\">\n",
       "      <th></th>\n",
       "      <th>show_id</th>\n",
       "      <th>type</th>\n",
       "      <th>title</th>\n",
       "      <th>country</th>\n",
       "      <th>date_added</th>\n",
       "      <th>release_year</th>\n",
       "      <th>rating</th>\n",
       "      <th>duration</th>\n",
       "      <th>listed_in</th>\n",
       "      <th>description</th>\n",
       "      <th>month_added</th>\n",
       "      <th>year_added</th>\n",
       "      <th>rating_ages</th>\n",
       "    </tr>\n",
       "  </thead>\n",
       "  <tbody>\n",
       "    <tr>\n",
       "      <th>1</th>\n",
       "      <td>s2</td>\n",
       "      <td>TV Show</td>\n",
       "      <td>Blood &amp; Water</td>\n",
       "      <td>South Africa</td>\n",
       "      <td>2021-09-24</td>\n",
       "      <td>2021</td>\n",
       "      <td>TV-MA</td>\n",
       "      <td>2 Seasons</td>\n",
       "      <td>International TV Shows, TV Dramas, TV Mysteries</td>\n",
       "      <td>After crossing paths at a party, a Cape Town t...</td>\n",
       "      <td>September</td>\n",
       "      <td>2021</td>\n",
       "      <td>Adults</td>\n",
       "    </tr>\n",
       "    <tr>\n",
       "      <th>2</th>\n",
       "      <td>s3</td>\n",
       "      <td>TV Show</td>\n",
       "      <td>Ganglands</td>\n",
       "      <td>United States</td>\n",
       "      <td>2021-09-24</td>\n",
       "      <td>2021</td>\n",
       "      <td>TV-MA</td>\n",
       "      <td>1 Season</td>\n",
       "      <td>Crime TV Shows, International TV Shows, TV Act...</td>\n",
       "      <td>To protect his family from a powerful drug lor...</td>\n",
       "      <td>September</td>\n",
       "      <td>2021</td>\n",
       "      <td>Adults</td>\n",
       "    </tr>\n",
       "    <tr>\n",
       "      <th>3</th>\n",
       "      <td>s4</td>\n",
       "      <td>TV Show</td>\n",
       "      <td>Jailbirds New Orleans</td>\n",
       "      <td>United States</td>\n",
       "      <td>2021-09-24</td>\n",
       "      <td>2021</td>\n",
       "      <td>TV-MA</td>\n",
       "      <td>1 Season</td>\n",
       "      <td>Docuseries, Reality TV</td>\n",
       "      <td>Feuds, flirtations and toilet talk go down amo...</td>\n",
       "      <td>September</td>\n",
       "      <td>2021</td>\n",
       "      <td>Adults</td>\n",
       "    </tr>\n",
       "    <tr>\n",
       "      <th>4</th>\n",
       "      <td>s5</td>\n",
       "      <td>TV Show</td>\n",
       "      <td>Kota Factory</td>\n",
       "      <td>India</td>\n",
       "      <td>2021-09-24</td>\n",
       "      <td>2021</td>\n",
       "      <td>TV-MA</td>\n",
       "      <td>2 Seasons</td>\n",
       "      <td>International TV Shows, Romantic TV Shows, TV ...</td>\n",
       "      <td>In a city of coaching centers known to train I...</td>\n",
       "      <td>September</td>\n",
       "      <td>2021</td>\n",
       "      <td>Adults</td>\n",
       "    </tr>\n",
       "    <tr>\n",
       "      <th>5</th>\n",
       "      <td>s6</td>\n",
       "      <td>TV Show</td>\n",
       "      <td>Midnight Mass</td>\n",
       "      <td>United States</td>\n",
       "      <td>2021-09-24</td>\n",
       "      <td>2021</td>\n",
       "      <td>TV-MA</td>\n",
       "      <td>1 Season</td>\n",
       "      <td>TV Dramas, TV Horror, TV Mysteries</td>\n",
       "      <td>The arrival of a charismatic young priest brin...</td>\n",
       "      <td>September</td>\n",
       "      <td>2021</td>\n",
       "      <td>Adults</td>\n",
       "    </tr>\n",
       "    <tr>\n",
       "      <th>...</th>\n",
       "      <td>...</td>\n",
       "      <td>...</td>\n",
       "      <td>...</td>\n",
       "      <td>...</td>\n",
       "      <td>...</td>\n",
       "      <td>...</td>\n",
       "      <td>...</td>\n",
       "      <td>...</td>\n",
       "      <td>...</td>\n",
       "      <td>...</td>\n",
       "      <td>...</td>\n",
       "      <td>...</td>\n",
       "      <td>...</td>\n",
       "    </tr>\n",
       "    <tr>\n",
       "      <th>8795</th>\n",
       "      <td>s8796</td>\n",
       "      <td>TV Show</td>\n",
       "      <td>Yu-Gi-Oh! Arc-V</td>\n",
       "      <td>Japan</td>\n",
       "      <td>2018-05-01</td>\n",
       "      <td>2015</td>\n",
       "      <td>TV-Y7</td>\n",
       "      <td>2 Seasons</td>\n",
       "      <td>Anime Series, Kids' TV</td>\n",
       "      <td>Now that he's discovered the Pendulum Summonin...</td>\n",
       "      <td>May</td>\n",
       "      <td>2018</td>\n",
       "      <td>Older Kids</td>\n",
       "    </tr>\n",
       "    <tr>\n",
       "      <th>8796</th>\n",
       "      <td>s8797</td>\n",
       "      <td>TV Show</td>\n",
       "      <td>Yunus Emre</td>\n",
       "      <td>Turkey</td>\n",
       "      <td>2017-01-17</td>\n",
       "      <td>2016</td>\n",
       "      <td>TV-PG</td>\n",
       "      <td>2 Seasons</td>\n",
       "      <td>International TV Shows, TV Dramas</td>\n",
       "      <td>During the Mongol invasions, Yunus Emre leaves...</td>\n",
       "      <td>January</td>\n",
       "      <td>2017</td>\n",
       "      <td>Older Kids</td>\n",
       "    </tr>\n",
       "    <tr>\n",
       "      <th>8797</th>\n",
       "      <td>s8798</td>\n",
       "      <td>TV Show</td>\n",
       "      <td>Zak Storm</td>\n",
       "      <td>United States</td>\n",
       "      <td>2018-09-13</td>\n",
       "      <td>2016</td>\n",
       "      <td>TV-Y7</td>\n",
       "      <td>3 Seasons</td>\n",
       "      <td>Kids' TV</td>\n",
       "      <td>Teen surfer Zak Storm is mysteriously transpor...</td>\n",
       "      <td>September</td>\n",
       "      <td>2018</td>\n",
       "      <td>Older Kids</td>\n",
       "    </tr>\n",
       "    <tr>\n",
       "      <th>8800</th>\n",
       "      <td>s8801</td>\n",
       "      <td>TV Show</td>\n",
       "      <td>Zindagi Gulzar Hai</td>\n",
       "      <td>Pakistan</td>\n",
       "      <td>2016-12-15</td>\n",
       "      <td>2012</td>\n",
       "      <td>TV-PG</td>\n",
       "      <td>1 Season</td>\n",
       "      <td>International TV Shows, Romantic TV Shows, TV ...</td>\n",
       "      <td>Strong-willed, middle-class Kashaf and carefre...</td>\n",
       "      <td>December</td>\n",
       "      <td>2016</td>\n",
       "      <td>Older Kids</td>\n",
       "    </tr>\n",
       "    <tr>\n",
       "      <th>8803</th>\n",
       "      <td>s8804</td>\n",
       "      <td>TV Show</td>\n",
       "      <td>Zombie Dumb</td>\n",
       "      <td>United States</td>\n",
       "      <td>2019-07-01</td>\n",
       "      <td>2018</td>\n",
       "      <td>TV-Y7</td>\n",
       "      <td>2 Seasons</td>\n",
       "      <td>Kids' TV, Korean TV Shows, TV Comedies</td>\n",
       "      <td>While living alone in a spooky town, a young g...</td>\n",
       "      <td>July</td>\n",
       "      <td>2019</td>\n",
       "      <td>Older Kids</td>\n",
       "    </tr>\n",
       "  </tbody>\n",
       "</table>\n",
       "<p>2666 rows × 13 columns</p>\n",
       "</div>"
      ],
      "text/plain": [
       "     show_id     type                  title        country date_added  \\\n",
       "1         s2  TV Show          Blood & Water   South Africa 2021-09-24   \n",
       "2         s3  TV Show              Ganglands  United States 2021-09-24   \n",
       "3         s4  TV Show  Jailbirds New Orleans  United States 2021-09-24   \n",
       "4         s5  TV Show           Kota Factory          India 2021-09-24   \n",
       "5         s6  TV Show          Midnight Mass  United States 2021-09-24   \n",
       "...      ...      ...                    ...            ...        ...   \n",
       "8795   s8796  TV Show        Yu-Gi-Oh! Arc-V          Japan 2018-05-01   \n",
       "8796   s8797  TV Show             Yunus Emre         Turkey 2017-01-17   \n",
       "8797   s8798  TV Show              Zak Storm  United States 2018-09-13   \n",
       "8800   s8801  TV Show     Zindagi Gulzar Hai       Pakistan 2016-12-15   \n",
       "8803   s8804  TV Show            Zombie Dumb  United States 2019-07-01   \n",
       "\n",
       "      release_year rating   duration  \\\n",
       "1             2021  TV-MA  2 Seasons   \n",
       "2             2021  TV-MA   1 Season   \n",
       "3             2021  TV-MA   1 Season   \n",
       "4             2021  TV-MA  2 Seasons   \n",
       "5             2021  TV-MA   1 Season   \n",
       "...            ...    ...        ...   \n",
       "8795          2015  TV-Y7  2 Seasons   \n",
       "8796          2016  TV-PG  2 Seasons   \n",
       "8797          2016  TV-Y7  3 Seasons   \n",
       "8800          2012  TV-PG   1 Season   \n",
       "8803          2018  TV-Y7  2 Seasons   \n",
       "\n",
       "                                              listed_in  \\\n",
       "1       International TV Shows, TV Dramas, TV Mysteries   \n",
       "2     Crime TV Shows, International TV Shows, TV Act...   \n",
       "3                                Docuseries, Reality TV   \n",
       "4     International TV Shows, Romantic TV Shows, TV ...   \n",
       "5                    TV Dramas, TV Horror, TV Mysteries   \n",
       "...                                                 ...   \n",
       "8795                             Anime Series, Kids' TV   \n",
       "8796                  International TV Shows, TV Dramas   \n",
       "8797                                           Kids' TV   \n",
       "8800  International TV Shows, Romantic TV Shows, TV ...   \n",
       "8803             Kids' TV, Korean TV Shows, TV Comedies   \n",
       "\n",
       "                                            description month_added  \\\n",
       "1     After crossing paths at a party, a Cape Town t...   September   \n",
       "2     To protect his family from a powerful drug lor...   September   \n",
       "3     Feuds, flirtations and toilet talk go down amo...   September   \n",
       "4     In a city of coaching centers known to train I...   September   \n",
       "5     The arrival of a charismatic young priest brin...   September   \n",
       "...                                                 ...         ...   \n",
       "8795  Now that he's discovered the Pendulum Summonin...         May   \n",
       "8796  During the Mongol invasions, Yunus Emre leaves...     January   \n",
       "8797  Teen surfer Zak Storm is mysteriously transpor...   September   \n",
       "8800  Strong-willed, middle-class Kashaf and carefre...    December   \n",
       "8803  While living alone in a spooky town, a young g...        July   \n",
       "\n",
       "      year_added rating_ages  \n",
       "1           2021      Adults  \n",
       "2           2021      Adults  \n",
       "3           2021      Adults  \n",
       "4           2021      Adults  \n",
       "5           2021      Adults  \n",
       "...          ...         ...  \n",
       "8795        2018  Older Kids  \n",
       "8796        2017  Older Kids  \n",
       "8797        2018  Older Kids  \n",
       "8800        2016  Older Kids  \n",
       "8803        2019  Older Kids  \n",
       "\n",
       "[2666 rows x 13 columns]"
      ]
     },
     "execution_count": 35,
     "metadata": {},
     "output_type": "execute_result"
    }
   ],
   "source": [
    "tvshow_df = df[df['type'] == 'TV Show'].copy()\n",
    "tvshow_df\n"
   ]
  },
  {
   "cell_type": "code",
   "execution_count": 36,
   "id": "d6340990",
   "metadata": {
    "execution": {
     "iopub.execute_input": "2022-05-30T20:11:02.389586Z",
     "iopub.status.busy": "2022-05-30T20:11:02.386365Z",
     "iopub.status.idle": "2022-05-30T20:11:02.418885Z",
     "shell.execute_reply": "2022-05-30T20:11:02.418167Z",
     "shell.execute_reply.started": "2022-05-30T20:10:26.598034Z"
    },
    "papermill": {
     "duration": 0.110249,
     "end_time": "2022-05-30T20:11:02.419028",
     "exception": false,
     "start_time": "2022-05-30T20:11:02.308779",
     "status": "completed"
    },
    "tags": []
   },
   "outputs": [
    {
     "data": {
      "text/html": [
       "<div>\n",
       "<style scoped>\n",
       "    .dataframe tbody tr th:only-of-type {\n",
       "        vertical-align: middle;\n",
       "    }\n",
       "\n",
       "    .dataframe tbody tr th {\n",
       "        vertical-align: top;\n",
       "    }\n",
       "\n",
       "    .dataframe thead th {\n",
       "        text-align: right;\n",
       "    }\n",
       "</style>\n",
       "<table border=\"1\" class=\"dataframe\">\n",
       "  <thead>\n",
       "    <tr style=\"text-align: right;\">\n",
       "      <th></th>\n",
       "      <th>show_id</th>\n",
       "      <th>type</th>\n",
       "      <th>title</th>\n",
       "      <th>country</th>\n",
       "      <th>date_added</th>\n",
       "      <th>release_year</th>\n",
       "      <th>rating</th>\n",
       "      <th>duration</th>\n",
       "      <th>listed_in</th>\n",
       "      <th>description</th>\n",
       "      <th>month_added</th>\n",
       "      <th>year_added</th>\n",
       "      <th>rating_ages</th>\n",
       "    </tr>\n",
       "  </thead>\n",
       "  <tbody>\n",
       "    <tr>\n",
       "      <th>0</th>\n",
       "      <td>s1</td>\n",
       "      <td>Movie</td>\n",
       "      <td>Dick Johnson Is Dead</td>\n",
       "      <td>United States</td>\n",
       "      <td>2021-09-25</td>\n",
       "      <td>2020</td>\n",
       "      <td>PG-13</td>\n",
       "      <td>90 min</td>\n",
       "      <td>Documentaries</td>\n",
       "      <td>As her father nears the end of his life, filmm...</td>\n",
       "      <td>September</td>\n",
       "      <td>2021</td>\n",
       "      <td>Teens</td>\n",
       "    </tr>\n",
       "    <tr>\n",
       "      <th>6</th>\n",
       "      <td>s7</td>\n",
       "      <td>Movie</td>\n",
       "      <td>My Little Pony: A New Generation</td>\n",
       "      <td>United States</td>\n",
       "      <td>2021-09-24</td>\n",
       "      <td>2021</td>\n",
       "      <td>PG</td>\n",
       "      <td>91 min</td>\n",
       "      <td>Children &amp; Family Movies</td>\n",
       "      <td>Equestria's divided. But a bright-eyed hero be...</td>\n",
       "      <td>September</td>\n",
       "      <td>2021</td>\n",
       "      <td>Older Kids</td>\n",
       "    </tr>\n",
       "    <tr>\n",
       "      <th>7</th>\n",
       "      <td>s8</td>\n",
       "      <td>Movie</td>\n",
       "      <td>Sankofa</td>\n",
       "      <td>United States</td>\n",
       "      <td>2021-09-24</td>\n",
       "      <td>1993</td>\n",
       "      <td>TV-MA</td>\n",
       "      <td>125 min</td>\n",
       "      <td>Dramas, Independent Movies, International Movies</td>\n",
       "      <td>On a photo shoot in Ghana, an American model s...</td>\n",
       "      <td>September</td>\n",
       "      <td>2021</td>\n",
       "      <td>Adults</td>\n",
       "    </tr>\n",
       "    <tr>\n",
       "      <th>9</th>\n",
       "      <td>s10</td>\n",
       "      <td>Movie</td>\n",
       "      <td>The Starling</td>\n",
       "      <td>United States</td>\n",
       "      <td>2021-09-24</td>\n",
       "      <td>2021</td>\n",
       "      <td>PG-13</td>\n",
       "      <td>104 min</td>\n",
       "      <td>Comedies, Dramas</td>\n",
       "      <td>A woman adjusting to life after a loss contend...</td>\n",
       "      <td>September</td>\n",
       "      <td>2021</td>\n",
       "      <td>Teens</td>\n",
       "    </tr>\n",
       "    <tr>\n",
       "      <th>12</th>\n",
       "      <td>s13</td>\n",
       "      <td>Movie</td>\n",
       "      <td>Je Suis Karl</td>\n",
       "      <td>Germany</td>\n",
       "      <td>2021-09-23</td>\n",
       "      <td>2021</td>\n",
       "      <td>TV-MA</td>\n",
       "      <td>127 min</td>\n",
       "      <td>Dramas, International Movies</td>\n",
       "      <td>After most of her family is murdered in a terr...</td>\n",
       "      <td>September</td>\n",
       "      <td>2021</td>\n",
       "      <td>Adults</td>\n",
       "    </tr>\n",
       "    <tr>\n",
       "      <th>...</th>\n",
       "      <td>...</td>\n",
       "      <td>...</td>\n",
       "      <td>...</td>\n",
       "      <td>...</td>\n",
       "      <td>...</td>\n",
       "      <td>...</td>\n",
       "      <td>...</td>\n",
       "      <td>...</td>\n",
       "      <td>...</td>\n",
       "      <td>...</td>\n",
       "      <td>...</td>\n",
       "      <td>...</td>\n",
       "      <td>...</td>\n",
       "    </tr>\n",
       "    <tr>\n",
       "      <th>8801</th>\n",
       "      <td>s8802</td>\n",
       "      <td>Movie</td>\n",
       "      <td>Zinzana</td>\n",
       "      <td>United Arab Emirates</td>\n",
       "      <td>2016-03-09</td>\n",
       "      <td>2015</td>\n",
       "      <td>TV-MA</td>\n",
       "      <td>96 min</td>\n",
       "      <td>Dramas, International Movies, Thrillers</td>\n",
       "      <td>Recovering alcoholic Talal wakes up inside a s...</td>\n",
       "      <td>March</td>\n",
       "      <td>2016</td>\n",
       "      <td>Adults</td>\n",
       "    </tr>\n",
       "    <tr>\n",
       "      <th>8802</th>\n",
       "      <td>s8803</td>\n",
       "      <td>Movie</td>\n",
       "      <td>Zodiac</td>\n",
       "      <td>United States</td>\n",
       "      <td>2019-11-20</td>\n",
       "      <td>2007</td>\n",
       "      <td>R</td>\n",
       "      <td>158 min</td>\n",
       "      <td>Cult Movies, Dramas, Thrillers</td>\n",
       "      <td>A political cartoonist, a crime reporter and a...</td>\n",
       "      <td>November</td>\n",
       "      <td>2019</td>\n",
       "      <td>Adults</td>\n",
       "    </tr>\n",
       "    <tr>\n",
       "      <th>8804</th>\n",
       "      <td>s8805</td>\n",
       "      <td>Movie</td>\n",
       "      <td>Zombieland</td>\n",
       "      <td>United States</td>\n",
       "      <td>2019-11-01</td>\n",
       "      <td>2009</td>\n",
       "      <td>R</td>\n",
       "      <td>88 min</td>\n",
       "      <td>Comedies, Horror Movies</td>\n",
       "      <td>Looking to survive in a world taken over by zo...</td>\n",
       "      <td>November</td>\n",
       "      <td>2019</td>\n",
       "      <td>Adults</td>\n",
       "    </tr>\n",
       "    <tr>\n",
       "      <th>8805</th>\n",
       "      <td>s8806</td>\n",
       "      <td>Movie</td>\n",
       "      <td>Zoom</td>\n",
       "      <td>United States</td>\n",
       "      <td>2020-01-11</td>\n",
       "      <td>2006</td>\n",
       "      <td>PG</td>\n",
       "      <td>88 min</td>\n",
       "      <td>Children &amp; Family Movies, Comedies</td>\n",
       "      <td>Dragged from civilian life, a former superhero...</td>\n",
       "      <td>January</td>\n",
       "      <td>2020</td>\n",
       "      <td>Older Kids</td>\n",
       "    </tr>\n",
       "    <tr>\n",
       "      <th>8806</th>\n",
       "      <td>s8807</td>\n",
       "      <td>Movie</td>\n",
       "      <td>Zubaan</td>\n",
       "      <td>India</td>\n",
       "      <td>2019-03-02</td>\n",
       "      <td>2015</td>\n",
       "      <td>TV-14</td>\n",
       "      <td>111 min</td>\n",
       "      <td>Dramas, International Movies, Music &amp; Musicals</td>\n",
       "      <td>A scrappy but poor boy worms his way into a ty...</td>\n",
       "      <td>March</td>\n",
       "      <td>2019</td>\n",
       "      <td>Teens</td>\n",
       "    </tr>\n",
       "  </tbody>\n",
       "</table>\n",
       "<p>6131 rows × 13 columns</p>\n",
       "</div>"
      ],
      "text/plain": [
       "     show_id   type                             title               country  \\\n",
       "0         s1  Movie              Dick Johnson Is Dead         United States   \n",
       "6         s7  Movie  My Little Pony: A New Generation         United States   \n",
       "7         s8  Movie                           Sankofa         United States   \n",
       "9        s10  Movie                      The Starling         United States   \n",
       "12       s13  Movie                      Je Suis Karl               Germany   \n",
       "...      ...    ...                               ...                   ...   \n",
       "8801   s8802  Movie                           Zinzana  United Arab Emirates   \n",
       "8802   s8803  Movie                            Zodiac         United States   \n",
       "8804   s8805  Movie                        Zombieland         United States   \n",
       "8805   s8806  Movie                              Zoom         United States   \n",
       "8806   s8807  Movie                            Zubaan                 India   \n",
       "\n",
       "     date_added  release_year rating duration  \\\n",
       "0    2021-09-25          2020  PG-13   90 min   \n",
       "6    2021-09-24          2021     PG   91 min   \n",
       "7    2021-09-24          1993  TV-MA  125 min   \n",
       "9    2021-09-24          2021  PG-13  104 min   \n",
       "12   2021-09-23          2021  TV-MA  127 min   \n",
       "...         ...           ...    ...      ...   \n",
       "8801 2016-03-09          2015  TV-MA   96 min   \n",
       "8802 2019-11-20          2007      R  158 min   \n",
       "8804 2019-11-01          2009      R   88 min   \n",
       "8805 2020-01-11          2006     PG   88 min   \n",
       "8806 2019-03-02          2015  TV-14  111 min   \n",
       "\n",
       "                                             listed_in  \\\n",
       "0                                        Documentaries   \n",
       "6                             Children & Family Movies   \n",
       "7     Dramas, Independent Movies, International Movies   \n",
       "9                                     Comedies, Dramas   \n",
       "12                        Dramas, International Movies   \n",
       "...                                                ...   \n",
       "8801           Dramas, International Movies, Thrillers   \n",
       "8802                    Cult Movies, Dramas, Thrillers   \n",
       "8804                           Comedies, Horror Movies   \n",
       "8805                Children & Family Movies, Comedies   \n",
       "8806    Dramas, International Movies, Music & Musicals   \n",
       "\n",
       "                                            description month_added  \\\n",
       "0     As her father nears the end of his life, filmm...   September   \n",
       "6     Equestria's divided. But a bright-eyed hero be...   September   \n",
       "7     On a photo shoot in Ghana, an American model s...   September   \n",
       "9     A woman adjusting to life after a loss contend...   September   \n",
       "12    After most of her family is murdered in a terr...   September   \n",
       "...                                                 ...         ...   \n",
       "8801  Recovering alcoholic Talal wakes up inside a s...       March   \n",
       "8802  A political cartoonist, a crime reporter and a...    November   \n",
       "8804  Looking to survive in a world taken over by zo...    November   \n",
       "8805  Dragged from civilian life, a former superhero...     January   \n",
       "8806  A scrappy but poor boy worms his way into a ty...       March   \n",
       "\n",
       "      year_added rating_ages  \n",
       "0           2021       Teens  \n",
       "6           2021  Older Kids  \n",
       "7           2021      Adults  \n",
       "9           2021       Teens  \n",
       "12          2021      Adults  \n",
       "...          ...         ...  \n",
       "8801        2016      Adults  \n",
       "8802        2019      Adults  \n",
       "8804        2019      Adults  \n",
       "8805        2020  Older Kids  \n",
       "8806        2019       Teens  \n",
       "\n",
       "[6131 rows x 13 columns]"
      ]
     },
     "execution_count": 36,
     "metadata": {},
     "output_type": "execute_result"
    }
   ],
   "source": [
    "movie_df = df[df['type']== 'Movie'].copy()\n",
    "movie_df"
   ]
  },
  {
   "cell_type": "code",
   "execution_count": 37,
   "id": "b225548c",
   "metadata": {
    "execution": {
     "iopub.execute_input": "2022-05-30T20:11:02.587322Z",
     "iopub.status.busy": "2022-05-30T20:11:02.586579Z",
     "iopub.status.idle": "2022-05-30T20:11:02.589513Z",
     "shell.execute_reply": "2022-05-30T20:11:02.590027Z",
     "shell.execute_reply.started": "2022-05-30T20:10:26.628357Z"
    },
    "papermill": {
     "duration": 0.094597,
     "end_time": "2022-05-30T20:11:02.590201",
     "exception": false,
     "start_time": "2022-05-30T20:11:02.495604",
     "status": "completed"
    },
    "tags": []
   },
   "outputs": [],
   "source": [
    "movie_df[\"duration\"]= movie_df.duration.str.replace(\" min\",'').astype(int)\n"
   ]
  },
  {
   "cell_type": "code",
   "execution_count": 38,
   "id": "c4510366",
   "metadata": {
    "execution": {
     "iopub.execute_input": "2022-05-30T20:11:02.757789Z",
     "iopub.status.busy": "2022-05-30T20:11:02.757024Z",
     "iopub.status.idle": "2022-05-30T20:11:02.760007Z",
     "shell.execute_reply": "2022-05-30T20:11:02.759488Z",
     "shell.execute_reply.started": "2022-05-30T20:10:26.645398Z"
    },
    "papermill": {
     "duration": 0.093392,
     "end_time": "2022-05-30T20:11:02.760154",
     "exception": false,
     "start_time": "2022-05-30T20:11:02.666762",
     "status": "completed"
    },
    "tags": []
   },
   "outputs": [],
   "source": [
    "tvshow_df['duration'] = tvshow_df.duration.str.replace('Seasons','')\n",
    "tvshow_df['duration'] = tvshow_df.duration.str.replace('Season','').astype(int)"
   ]
  },
  {
   "cell_type": "code",
   "execution_count": 39,
   "id": "3007e656",
   "metadata": {
    "execution": {
     "iopub.execute_input": "2022-05-30T20:11:02.931932Z",
     "iopub.status.busy": "2022-05-30T20:11:02.931141Z",
     "iopub.status.idle": "2022-05-30T20:11:02.935554Z",
     "shell.execute_reply": "2022-05-30T20:11:02.934909Z",
     "shell.execute_reply.started": "2022-05-30T20:10:26.660708Z"
    },
    "papermill": {
     "duration": 0.09898,
     "end_time": "2022-05-30T20:11:02.935698",
     "exception": false,
     "start_time": "2022-05-30T20:11:02.836718",
     "status": "completed"
    },
    "tags": []
   },
   "outputs": [
    {
     "name": "stdout",
     "output_type": "stream",
     "text": [
      "<class 'pandas.core.frame.DataFrame'>\n",
      "Int64Index: 2666 entries, 1 to 8803\n",
      "Data columns (total 13 columns):\n",
      " #   Column        Non-Null Count  Dtype         \n",
      "---  ------        --------------  -----         \n",
      " 0   show_id       2666 non-null   object        \n",
      " 1   type          2666 non-null   category      \n",
      " 2   title         2666 non-null   object        \n",
      " 3   country       2666 non-null   object        \n",
      " 4   date_added    2666 non-null   datetime64[ns]\n",
      " 5   release_year  2666 non-null   int64         \n",
      " 6   rating        2666 non-null   object        \n",
      " 7   duration      2666 non-null   int64         \n",
      " 8   listed_in     2666 non-null   object        \n",
      " 9   description   2666 non-null   object        \n",
      " 10  month_added   2666 non-null   object        \n",
      " 11  year_added    2666 non-null   int64         \n",
      " 12  rating_ages   2666 non-null   category      \n",
      "dtypes: category(2), datetime64[ns](1), int64(3), object(7)\n",
      "memory usage: 255.5+ KB\n"
     ]
    }
   ],
   "source": [
    "tvshow_df.info()"
   ]
  },
  {
   "cell_type": "code",
   "execution_count": 40,
   "id": "981804b4",
   "metadata": {
    "execution": {
     "iopub.execute_input": "2022-05-30T20:11:03.099725Z",
     "iopub.status.busy": "2022-05-30T20:11:03.099047Z",
     "iopub.status.idle": "2022-05-30T20:11:03.419654Z",
     "shell.execute_reply": "2022-05-30T20:11:03.418959Z",
     "shell.execute_reply.started": "2022-05-30T20:10:26.689100Z"
    },
    "papermill": {
     "duration": 0.408377,
     "end_time": "2022-05-30T20:11:03.419819",
     "exception": false,
     "start_time": "2022-05-30T20:11:03.011442",
     "status": "completed"
    },
    "tags": []
   },
   "outputs": [
    {
     "name": "stdout",
     "output_type": "stream",
     "text": [
      "1     1793\n",
      "2      421\n",
      "3      198\n",
      "4       94\n",
      "5       64\n",
      "6       33\n",
      "7       23\n",
      "8       17\n",
      "9        9\n",
      "10       6\n",
      "13       2\n",
      "15       2\n",
      "12       2\n",
      "17       1\n",
      "11       1\n",
      "Name: duration, dtype: int64\n"
     ]
    },
    {
     "data": {
      "text/plain": [
       "Text(0.5, 0, 'Number of season')"
      ]
     },
     "execution_count": 40,
     "metadata": {},
     "output_type": "execute_result"
    },
    {
     "data": {
      "image/png": "[encoded data removed]",
      "text/plain": [
       "<Figure size 1080x720 with 1 Axes>"
      ]
     },
     "metadata": {
      "needs_background": "light"
     },
     "output_type": "display_data"
    }
   ],
   "source": [
    "print(tvshow_df.duration.value_counts() )\n",
    "plt.figure(figsize=(15,10))\n",
    "plt.title('Seasons of TV Show')\n",
    "\n",
    "sns.countplot(x = tvshow_df['duration'], palette=\"Set3\")\n",
    "plt.xlabel('Number of season')\n",
    "#g.figure.autofmt_xdate()"
   ]
  },
  {
   "cell_type": "markdown",
   "id": "9decc2e7",
   "metadata": {
    "papermill": {
     "duration": 0.078496,
     "end_time": "2022-05-30T20:11:03.577822",
     "exception": false,
     "start_time": "2022-05-30T20:11:03.499326",
     "status": "completed"
    },
    "tags": []
   },
   "source": [
    "Gần 1800 TVshow chỉ có 1 mùa duy nhất \n",
    "17 mùa là số mùa dài nhất trên netflix và chỉ có 1 TVshow duy nhất."
   ]
  },
  {
   "cell_type": "code",
   "execution_count": 41,
   "id": "ad1141a9",
   "metadata": {
    "execution": {
     "iopub.execute_input": "2022-05-30T20:11:03.743525Z",
     "iopub.status.busy": "2022-05-30T20:11:03.742134Z",
     "iopub.status.idle": "2022-05-30T20:11:03.763681Z",
     "shell.execute_reply": "2022-05-30T20:11:03.763001Z",
     "shell.execute_reply.started": "2022-05-30T20:10:26.994070Z"
    },
    "papermill": {
     "duration": 0.107268,
     "end_time": "2022-05-30T20:11:03.763837",
     "exception": false,
     "start_time": "2022-05-30T20:11:03.656569",
     "status": "completed"
    },
    "tags": []
   },
   "outputs": [
    {
     "data": {
      "text/html": [
       "<div>\n",
       "<style scoped>\n",
       "    .dataframe tbody tr th:only-of-type {\n",
       "        vertical-align: middle;\n",
       "    }\n",
       "\n",
       "    .dataframe tbody tr th {\n",
       "        vertical-align: top;\n",
       "    }\n",
       "\n",
       "    .dataframe thead th {\n",
       "        text-align: right;\n",
       "    }\n",
       "</style>\n",
       "<table border=\"1\" class=\"dataframe\">\n",
       "  <thead>\n",
       "    <tr style=\"text-align: right;\">\n",
       "      <th></th>\n",
       "      <th>release_year</th>\n",
       "      <th>duration</th>\n",
       "      <th>year_added</th>\n",
       "    </tr>\n",
       "  </thead>\n",
       "  <tbody>\n",
       "    <tr>\n",
       "      <th>count</th>\n",
       "      <td>6131.000000</td>\n",
       "      <td>6131.000000</td>\n",
       "      <td>6131.000000</td>\n",
       "    </tr>\n",
       "    <tr>\n",
       "      <th>mean</th>\n",
       "      <td>2013.121514</td>\n",
       "      <td>99.564998</td>\n",
       "      <td>2018.849290</td>\n",
       "    </tr>\n",
       "    <tr>\n",
       "      <th>std</th>\n",
       "      <td>9.678169</td>\n",
       "      <td>28.289504</td>\n",
       "      <td>1.561922</td>\n",
       "    </tr>\n",
       "    <tr>\n",
       "      <th>min</th>\n",
       "      <td>1942.000000</td>\n",
       "      <td>3.000000</td>\n",
       "      <td>2008.000000</td>\n",
       "    </tr>\n",
       "    <tr>\n",
       "      <th>25%</th>\n",
       "      <td>2012.000000</td>\n",
       "      <td>87.000000</td>\n",
       "      <td>2018.000000</td>\n",
       "    </tr>\n",
       "    <tr>\n",
       "      <th>50%</th>\n",
       "      <td>2016.000000</td>\n",
       "      <td>98.000000</td>\n",
       "      <td>2019.000000</td>\n",
       "    </tr>\n",
       "    <tr>\n",
       "      <th>75%</th>\n",
       "      <td>2018.000000</td>\n",
       "      <td>114.000000</td>\n",
       "      <td>2020.000000</td>\n",
       "    </tr>\n",
       "    <tr>\n",
       "      <th>max</th>\n",
       "      <td>2021.000000</td>\n",
       "      <td>312.000000</td>\n",
       "      <td>2021.000000</td>\n",
       "    </tr>\n",
       "  </tbody>\n",
       "</table>\n",
       "</div>"
      ],
      "text/plain": [
       "       release_year     duration   year_added\n",
       "count   6131.000000  6131.000000  6131.000000\n",
       "mean    2013.121514    99.564998  2018.849290\n",
       "std        9.678169    28.289504     1.561922\n",
       "min     1942.000000     3.000000  2008.000000\n",
       "25%     2012.000000    87.000000  2018.000000\n",
       "50%     2016.000000    98.000000  2019.000000\n",
       "75%     2018.000000   114.000000  2020.000000\n",
       "max     2021.000000   312.000000  2021.000000"
      ]
     },
     "execution_count": 41,
     "metadata": {},
     "output_type": "execute_result"
    }
   ],
   "source": [
    "movie_df.describe()"
   ]
  },
  {
   "cell_type": "code",
   "execution_count": 42,
   "id": "f81274f5",
   "metadata": {
    "execution": {
     "iopub.execute_input": "2022-05-30T20:11:03.947688Z",
     "iopub.status.busy": "2022-05-30T20:11:03.946945Z",
     "iopub.status.idle": "2022-05-30T20:11:03.950650Z",
     "shell.execute_reply": "2022-05-30T20:11:03.950046Z",
     "shell.execute_reply.started": "2022-05-30T20:10:27.016272Z"
    },
    "papermill": {
     "duration": 0.105118,
     "end_time": "2022-05-30T20:11:03.950805",
     "exception": false,
     "start_time": "2022-05-30T20:11:03.845687",
     "status": "completed"
    },
    "tags": []
   },
   "outputs": [
    {
     "data": {
      "text/html": [
       "<div>\n",
       "<style scoped>\n",
       "    .dataframe tbody tr th:only-of-type {\n",
       "        vertical-align: middle;\n",
       "    }\n",
       "\n",
       "    .dataframe tbody tr th {\n",
       "        vertical-align: top;\n",
       "    }\n",
       "\n",
       "    .dataframe thead th {\n",
       "        text-align: right;\n",
       "    }\n",
       "</style>\n",
       "<table border=\"1\" class=\"dataframe\">\n",
       "  <thead>\n",
       "    <tr style=\"text-align: right;\">\n",
       "      <th></th>\n",
       "      <th>show_id</th>\n",
       "      <th>type</th>\n",
       "      <th>title</th>\n",
       "      <th>country</th>\n",
       "      <th>date_added</th>\n",
       "      <th>release_year</th>\n",
       "      <th>rating</th>\n",
       "      <th>duration</th>\n",
       "      <th>listed_in</th>\n",
       "      <th>description</th>\n",
       "      <th>month_added</th>\n",
       "      <th>year_added</th>\n",
       "      <th>rating_ages</th>\n",
       "    </tr>\n",
       "  </thead>\n",
       "  <tbody>\n",
       "    <tr>\n",
       "      <th>3777</th>\n",
       "      <td>s3778</td>\n",
       "      <td>Movie</td>\n",
       "      <td>Silent</td>\n",
       "      <td>United States</td>\n",
       "      <td>2019-06-04</td>\n",
       "      <td>2014</td>\n",
       "      <td>TV-Y</td>\n",
       "      <td>3</td>\n",
       "      <td>Children &amp; Family Movies, Sci-Fi &amp; Fantasy</td>\n",
       "      <td>\"Silent\" is an animated short film created by ...</td>\n",
       "      <td>June</td>\n",
       "      <td>2019</td>\n",
       "      <td>Kids</td>\n",
       "    </tr>\n",
       "  </tbody>\n",
       "</table>\n",
       "</div>"
      ],
      "text/plain": [
       "     show_id   type   title        country date_added  release_year rating  \\\n",
       "3777   s3778  Movie  Silent  United States 2019-06-04          2014   TV-Y   \n",
       "\n",
       "      duration                                   listed_in  \\\n",
       "3777         3  Children & Family Movies, Sci-Fi & Fantasy   \n",
       "\n",
       "                                            description month_added  \\\n",
       "3777  \"Silent\" is an animated short film created by ...        June   \n",
       "\n",
       "      year_added rating_ages  \n",
       "3777        2019        Kids  "
      ]
     },
     "execution_count": 42,
     "metadata": {},
     "output_type": "execute_result"
    }
   ],
   "source": [
    "movie_df[movie_df[\"duration\"]==3]"
   ]
  },
  {
   "cell_type": "code",
   "execution_count": 43,
   "id": "20d9262b",
   "metadata": {
    "execution": {
     "iopub.execute_input": "2022-05-30T20:11:04.142976Z",
     "iopub.status.busy": "2022-05-30T20:11:04.142185Z",
     "iopub.status.idle": "2022-05-30T20:11:04.146033Z",
     "shell.execute_reply": "2022-05-30T20:11:04.145362Z",
     "shell.execute_reply.started": "2022-05-30T20:10:27.035924Z"
    },
    "papermill": {
     "duration": 0.107153,
     "end_time": "2022-05-30T20:11:04.146190",
     "exception": false,
     "start_time": "2022-05-30T20:11:04.039037",
     "status": "completed"
    },
    "tags": []
   },
   "outputs": [
    {
     "data": {
      "text/html": [
       "<div>\n",
       "<style scoped>\n",
       "    .dataframe tbody tr th:only-of-type {\n",
       "        vertical-align: middle;\n",
       "    }\n",
       "\n",
       "    .dataframe tbody tr th {\n",
       "        vertical-align: top;\n",
       "    }\n",
       "\n",
       "    .dataframe thead th {\n",
       "        text-align: right;\n",
       "    }\n",
       "</style>\n",
       "<table border=\"1\" class=\"dataframe\">\n",
       "  <thead>\n",
       "    <tr style=\"text-align: right;\">\n",
       "      <th></th>\n",
       "      <th>show_id</th>\n",
       "      <th>type</th>\n",
       "      <th>title</th>\n",
       "      <th>country</th>\n",
       "      <th>date_added</th>\n",
       "      <th>release_year</th>\n",
       "      <th>rating</th>\n",
       "      <th>duration</th>\n",
       "      <th>listed_in</th>\n",
       "      <th>description</th>\n",
       "      <th>month_added</th>\n",
       "      <th>year_added</th>\n",
       "      <th>rating_ages</th>\n",
       "    </tr>\n",
       "  </thead>\n",
       "  <tbody>\n",
       "    <tr>\n",
       "      <th>4253</th>\n",
       "      <td>s4254</td>\n",
       "      <td>Movie</td>\n",
       "      <td>Black Mirror: Bandersnatch</td>\n",
       "      <td>United States</td>\n",
       "      <td>2018-12-28</td>\n",
       "      <td>2018</td>\n",
       "      <td>TV-MA</td>\n",
       "      <td>312</td>\n",
       "      <td>Dramas, International Movies, Sci-Fi &amp; Fantasy</td>\n",
       "      <td>In 1984, a young programmer begins to question...</td>\n",
       "      <td>December</td>\n",
       "      <td>2018</td>\n",
       "      <td>Adults</td>\n",
       "    </tr>\n",
       "  </tbody>\n",
       "</table>\n",
       "</div>"
      ],
      "text/plain": [
       "     show_id   type                       title        country date_added  \\\n",
       "4253   s4254  Movie  Black Mirror: Bandersnatch  United States 2018-12-28   \n",
       "\n",
       "      release_year rating  duration  \\\n",
       "4253          2018  TV-MA       312   \n",
       "\n",
       "                                           listed_in  \\\n",
       "4253  Dramas, International Movies, Sci-Fi & Fantasy   \n",
       "\n",
       "                                            description month_added  \\\n",
       "4253  In 1984, a young programmer begins to question...    December   \n",
       "\n",
       "      year_added rating_ages  \n",
       "4253        2018      Adults  "
      ]
     },
     "execution_count": 43,
     "metadata": {},
     "output_type": "execute_result"
    }
   ],
   "source": [
    "movie_df[movie_df[\"duration\"]==312]"
   ]
  },
  {
   "cell_type": "markdown",
   "id": "1067c783",
   "metadata": {
    "papermill": {
     "duration": 0.079516,
     "end_time": "2022-05-30T20:11:04.310819",
     "exception": false,
     "start_time": "2022-05-30T20:11:04.231303",
     "status": "completed"
    },
    "tags": []
   },
   "source": [
    "Thời lượng trung bình của một bộ phim là 99.56 phút. Bộ phim 'Silent' là bộ phim hoạt hình có thời lượng ngắn nhất 3 phút.\n",
    "Bộ phim dài nhất là 'Black Mirror: Bandersnatch' với thời lượng lên đến 312'."
   ]
  },
  {
   "cell_type": "code",
   "execution_count": 44,
   "id": "6d514e5b",
   "metadata": {
    "execution": {
     "iopub.execute_input": "2022-05-30T20:11:04.501088Z",
     "iopub.status.busy": "2022-05-30T20:11:04.498961Z",
     "iopub.status.idle": "2022-05-30T20:11:04.888110Z",
     "shell.execute_reply": "2022-05-30T20:11:04.888724Z",
     "shell.execute_reply.started": "2022-05-30T20:10:27.060177Z"
    },
    "papermill": {
     "duration": 0.498818,
     "end_time": "2022-05-30T20:11:04.888904",
     "exception": false,
     "start_time": "2022-05-30T20:11:04.390086",
     "status": "completed"
    },
    "tags": []
   },
   "outputs": [
    {
     "name": "stdout",
     "output_type": "stream",
     "text": [
      "90     152\n",
      "94     146\n",
      "97     146\n",
      "93     146\n",
      "91     144\n",
      "      ... \n",
      "208      1\n",
      "5        1\n",
      "16       1\n",
      "186      1\n",
      "191      1\n",
      "Name: duration, Length: 205, dtype: int64\n",
      "\n"
     ]
    },
    {
     "name": "stderr",
     "output_type": "stream",
     "text": [
      "/opt/conda/lib/python3.7/site-packages/seaborn/distributions.py:2619: FutureWarning: `distplot` is a deprecated function and will be removed in a future version. Please adapt your code to use either `displot` (a figure-level function with similar flexibility) or `histplot` (an axes-level function for histograms).\n",
      "  warnings.warn(msg, FutureWarning)\n"
     ]
    },
    {
     "data": {
      "image/png": "[encoded data removed]",
      "text/plain": [
       "<Figure size 1080x720 with 1 Axes>"
      ]
     },
     "metadata": {
      "needs_background": "light"
     },
     "output_type": "display_data"
    }
   ],
   "source": [
    "print(movie_df.duration.value_counts())\n",
    "plt.figure(figsize = (15,10))\n",
    "plt.title('Duration of Movie')\n",
    "plt.xlabel('Minutes')\n",
    "sns.distplot(x = movie_df['duration'], color = 'orange')\n",
    "print()"
   ]
  },
  {
   "cell_type": "code",
   "execution_count": 45,
   "id": "82797443",
   "metadata": {
    "execution": {
     "iopub.execute_input": "2022-05-30T20:11:05.060944Z",
     "iopub.status.busy": "2022-05-30T20:11:05.060202Z",
     "iopub.status.idle": "2022-05-30T20:11:05.358493Z",
     "shell.execute_reply": "2022-05-30T20:11:05.357865Z"
    },
    "papermill": {
     "duration": 0.386363,
     "end_time": "2022-05-30T20:11:05.358659",
     "exception": false,
     "start_time": "2022-05-30T20:11:04.972296",
     "status": "completed"
    },
    "tags": []
   },
   "outputs": [
    {
     "data": {
      "text/plain": [
       "<AxesSubplot:title={'center':'Top 10 Genres for TV shows'}, xlabel='count', ylabel='listed_in'>"
      ]
     },
     "execution_count": 45,
     "metadata": {},
     "output_type": "execute_result"
    },
    {
     "data": {
      "image/png": "[encoded data removed]",
      "text/plain": [
       "<Figure size 1080x576 with 1 Axes>"
      ]
     },
     "metadata": {
      "needs_background": "light"
     },
     "output_type": "display_data"
    }
   ],
   "source": [
    "\n",
    "plt.figure(figsize = (15,8))\n",
    "plt.title('Top 10 Genres for TV shows')\n",
    "sns.countplot(y=\"listed_in\", data= tvshow_df,order = tvshow_df['listed_in'].value_counts().index[:10],palette=\"Set3\")"
   ]
  },
  {
   "cell_type": "code",
   "execution_count": 46,
   "id": "7339c8e3",
   "metadata": {
    "execution": {
     "iopub.execute_input": "2022-05-30T20:11:05.569124Z",
     "iopub.status.busy": "2022-05-30T20:11:05.568420Z",
     "iopub.status.idle": "2022-05-30T20:11:05.710019Z",
     "shell.execute_reply": "2022-05-30T20:11:05.709306Z"
    },
    "papermill": {
     "duration": 0.249081,
     "end_time": "2022-05-30T20:11:05.710184",
     "exception": false,
     "start_time": "2022-05-30T20:11:05.461103",
     "status": "completed"
    },
    "tags": []
   },
   "outputs": [],
   "source": [
    "from wordcloud import WordCloud"
   ]
  },
  {
   "cell_type": "code",
   "execution_count": 47,
   "id": "f2d4c2c0",
   "metadata": {
    "execution": {
     "iopub.execute_input": "2022-05-30T20:11:05.887653Z",
     "iopub.status.busy": "2022-05-30T20:11:05.886975Z",
     "iopub.status.idle": "2022-05-30T20:11:06.961130Z",
     "shell.execute_reply": "2022-05-30T20:11:06.961662Z"
    },
    "papermill": {
     "duration": 1.167075,
     "end_time": "2022-05-30T20:11:06.961861",
     "exception": false,
     "start_time": "2022-05-30T20:11:05.794786",
     "status": "completed"
    },
    "tags": []
   },
   "outputs": [
    {
     "data": {
      "image/png": "[encoded data removed]",
      "text/plain": [
       "<Figure size 864x1080 with 1 Axes>"
      ]
     },
     "metadata": {
      "needs_background": "light"
     },
     "output_type": "display_data"
    }
   ],
   "source": [
    "str1 = \" \".join(description for description in df.description) \n",
    "plt.figure(figsize=[12,15])\n",
    "plot_d = WordCloud( collocations = False, background_color = 'white', max_font_size = 90, max_words = 200).generate(str1)\n",
    "plt.imshow(plot_d, interpolation='bilinear')\n",
    "plt.axis(\"off\")\n",
    "plt.show()"
   ]
  },
  {
   "cell_type": "markdown",
   "id": "270bfc1f",
   "metadata": {
    "papermill": {
     "duration": 0.09457,
     "end_time": "2022-05-30T20:11:07.152624",
     "exception": false,
     "start_time": "2022-05-30T20:11:07.058054",
     "status": "completed"
    },
    "tags": []
   },
   "source": [
    "Những từ phổ biến đáng chú ý trong mục mô tả phim\n",
    "\n",
    "* Level 1: Life, New, Young, Family, Friend, Find\n",
    "* Level 2: Love, Woman, Man, World, Live\n",
    "* Level 3: Help, Father, Girl, Student, Documentary, Series, Home\n"
   ]
  }
 ],
 "metadata": {
  "kernelspec": {
   "display_name": "Python 3",
   "language": "python",
   "name": "python3"
  },
  "language_info": {
   "codemirror_mode": {
    "name": "ipython",
    "version": 3
   },
   "file_extension": ".py",
   "mimetype": "text/x-python",
   "name": "python",
   "nbconvert_exporter": "python",
   "pygments_lexer": "ipython3",
   "version": "3.7.12"
  },
  "papermill": {
   "default_parameters": {},
   "duration": 27.176852,
   "end_time": "2022-05-30T20:11:08.057950",
   "environment_variables": {},
   "exception": null,
   "input_path": "__notebook__.ipynb",
   "output_path": "__notebook__.ipynb",
   "parameters": {},
   "start_time": "2022-05-30T20:10:40.881098",
   "version": "2.3.3"
  }
 },
 "nbformat": 4,
 "nbformat_minor": 5
}
